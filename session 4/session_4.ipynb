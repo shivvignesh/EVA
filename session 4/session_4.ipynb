{
  "nbformat": 4,
  "nbformat_minor": 0,
  "metadata": {
    "colab": {
      "name": "session 4.ipynb",
      "version": "0.3.2",
      "provenance": [],
      "collapsed_sections": [
        "0oKCysegkIqE",
        "HX3nHavvZ6Xu",
        "aX_HrqwIcziW",
        "dzFIDFQWejfG",
        "SiSvbnPbjZbJ"
      ]
    },
    "kernelspec": {
      "name": "python3",
      "display_name": "Python 3"
    },
    "accelerator": "GPU"
  },
  "cells": [
    {
      "cell_type": "markdown",
      "metadata": {
        "id": "aNyZv-Ec52ot",
        "colab_type": "text"
      },
      "source": [
        "# **Import Libraries and modules**"
      ]
    },
    {
      "cell_type": "code",
      "metadata": {
        "id": "3m3w1Cw49Zkt",
        "colab_type": "code",
        "outputId": "a152198c-89ac-4d04-c302-1f090412add0",
        "colab": {
          "base_uri": "https://localhost:8080/",
          "height": 34
        }
      },
      "source": [
        "# https://keras.io/\n",
        "!pip install -q keras\n",
        "import keras"
      ],
      "execution_count": 1,
      "outputs": [
        {
          "output_type": "stream",
          "text": [
            "Using TensorFlow backend.\n"
          ],
          "name": "stderr"
        }
      ]
    },
    {
      "cell_type": "code",
      "metadata": {
        "id": "Eso6UHE080D4",
        "colab_type": "code",
        "colab": {}
      },
      "source": [
        "import numpy as np\n",
        "\n",
        "from keras.models import Sequential\n",
        "from keras.layers import Dense, Dropout, Activation, Flatten, Add,Dropout,BatchNormalization\n",
        "from keras.layers import Convolution2D, MaxPooling2D\n",
        "from keras.utils import np_utils\n",
        "\n",
        "from keras.datasets import mnist"
      ],
      "execution_count": 0,
      "outputs": []
    },
    {
      "cell_type": "markdown",
      "metadata": {
        "id": "zByEi95J86RD",
        "colab_type": "text"
      },
      "source": [
        "### Load pre-shuffled MNIST data into train and test sets"
      ]
    },
    {
      "cell_type": "code",
      "metadata": {
        "id": "7eRM0QWN83PV",
        "colab_type": "code",
        "outputId": "0a29f091-fd2d-4afa-ce5d-d8452e0ec71b",
        "colab": {
          "base_uri": "https://localhost:8080/",
          "height": 51
        }
      },
      "source": [
        "(X_train, y_train), (X_test, y_test) = mnist.load_data()"
      ],
      "execution_count": 3,
      "outputs": [
        {
          "output_type": "stream",
          "text": [
            "Downloading data from https://s3.amazonaws.com/img-datasets/mnist.npz\n",
            "11493376/11490434 [==============================] - 2s 0us/step\n"
          ],
          "name": "stdout"
        }
      ]
    },
    {
      "cell_type": "code",
      "metadata": {
        "id": "4a4Be72j8-ZC",
        "colab_type": "code",
        "outputId": "0e825083-ef13-4dd7-b9d8-9c94ba9000a9",
        "colab": {
          "base_uri": "https://localhost:8080/",
          "height": 303
        }
      },
      "source": [
        "print (X_train.shape)\n",
        "from matplotlib import pyplot as plt\n",
        "%matplotlib inline\n",
        "plt.imshow(X_train[0])"
      ],
      "execution_count": 4,
      "outputs": [
        {
          "output_type": "stream",
          "text": [
            "(60000, 28, 28)\n"
          ],
          "name": "stdout"
        },
        {
          "output_type": "execute_result",
          "data": {
            "text/plain": [
              "<matplotlib.image.AxesImage at 0x7fea15263e48>"
            ]
          },
          "metadata": {
            "tags": []
          },
          "execution_count": 4
        },
        {
          "output_type": "display_data",
          "data": {
            "image/png": "[encoded data removed]",
            "text/plain": [
              "<Figure size 432x288 with 1 Axes>"
            ]
          },
          "metadata": {
            "tags": []
          }
        }
      ]
    },
    {
      "cell_type": "code",
      "metadata": {
        "id": "dkmprriw9AnZ",
        "colab_type": "code",
        "colab": {}
      },
      "source": [
        "X_train = X_train.reshape(X_train.shape[0], 28, 28,1)\n",
        "X_test = X_test.reshape(X_test.shape[0], 28, 28,1)"
      ],
      "execution_count": 0,
      "outputs": []
    },
    {
      "cell_type": "code",
      "metadata": {
        "id": "X2m4YS4E9CRh",
        "colab_type": "code",
        "colab": {}
      },
      "source": [
        "X_train = X_train.astype('float32')\n",
        "X_test = X_test.astype('float32')\n",
        "X_train /= 255\n",
        "X_test /= 255"
      ],
      "execution_count": 0,
      "outputs": []
    },
    {
      "cell_type": "code",
      "metadata": {
        "id": "0Mn0vAYD9DvB",
        "colab_type": "code",
        "outputId": "13598388-f8e4-4432-bf8a-df5af611ef97",
        "colab": {
          "base_uri": "https://localhost:8080/",
          "height": 34
        }
      },
      "source": [
        "y_train[:10]"
      ],
      "execution_count": 7,
      "outputs": [
        {
          "output_type": "execute_result",
          "data": {
            "text/plain": [
              "array([5, 0, 4, 1, 9, 2, 1, 3, 1, 4], dtype=uint8)"
            ]
          },
          "metadata": {
            "tags": []
          },
          "execution_count": 7
        }
      ]
    },
    {
      "cell_type": "code",
      "metadata": {
        "id": "ZG8JiXR39FHC",
        "colab_type": "code",
        "colab": {}
      },
      "source": [
        "# Convert 1-dimensional class arrays to 10-dimensional class matrices\n",
        "Y_train = np_utils.to_categorical(y_train, 10)\n",
        "Y_test = np_utils.to_categorical(y_test, 10)"
      ],
      "execution_count": 0,
      "outputs": []
    },
    {
      "cell_type": "code",
      "metadata": {
        "id": "fYlFRvKS9HMB",
        "colab_type": "code",
        "outputId": "ad7528b8-43ee-45b2-ea4b-5564667e9464",
        "colab": {
          "base_uri": "https://localhost:8080/",
          "height": 187
        }
      },
      "source": [
        "Y_train[:10]\n"
      ],
      "execution_count": 9,
      "outputs": [
        {
          "output_type": "execute_result",
          "data": {
            "text/plain": [
              "array([[0., 0., 0., 0., 0., 1., 0., 0., 0., 0.],\n",
              "       [1., 0., 0., 0., 0., 0., 0., 0., 0., 0.],\n",
              "       [0., 0., 0., 0., 1., 0., 0., 0., 0., 0.],\n",
              "       [0., 1., 0., 0., 0., 0., 0., 0., 0., 0.],\n",
              "       [0., 0., 0., 0., 0., 0., 0., 0., 0., 1.],\n",
              "       [0., 0., 1., 0., 0., 0., 0., 0., 0., 0.],\n",
              "       [0., 1., 0., 0., 0., 0., 0., 0., 0., 0.],\n",
              "       [0., 0., 0., 1., 0., 0., 0., 0., 0., 0.],\n",
              "       [0., 1., 0., 0., 0., 0., 0., 0., 0., 0.],\n",
              "       [0., 0., 0., 0., 1., 0., 0., 0., 0., 0.]], dtype=float32)"
            ]
          },
          "metadata": {
            "tags": []
          },
          "execution_count": 9
        }
      ]
    },
    {
      "cell_type": "markdown",
      "metadata": {
        "id": "0oKCysegkIqE",
        "colab_type": "text"
      },
      "source": [
        "# Vanilla Network."
      ]
    },
    {
      "cell_type": "code",
      "metadata": {
        "id": "osKqT73Q9JJB",
        "colab_type": "code",
        "outputId": "6a4d7ac3-06fe-4408-bd5c-7d080051dc2d",
        "colab": {
          "base_uri": "https://localhost:8080/",
          "height": 190
        }
      },
      "source": [
        "from keras.layers import Activation\n",
        "model = Sequential()\n",
        "\n",
        "model.add(Convolution2D(32, (3, 3), activation='relu', input_shape=(28,28,1))) # 28\n",
        "model.add(Convolution2D(64, (3, 3), activation='relu')) # 26 \n",
        "model.add(Convolution2D(32, 1, activation='relu')) # 26\n",
        "model.add(MaxPooling2D(pool_size=(2, 2)))\n",
        "\n",
        "model.add(Convolution2D(32, (3, 3), activation='relu')) # 11\n",
        "model.add(MaxPooling2D(pool_size=(2, 2)))\n",
        "\n",
        "model.add(Convolution2D(32, (3, 3), activation='relu')) # 9\n",
        "model.add(Convolution2D(64, (3, 3), activation='relu'))\n",
        "model.add(Convolution2D(10, 1))\n",
        "\n",
        "model.add(Flatten())\n",
        "model.add(Activation('softmax'))"
      ],
      "execution_count": 10,
      "outputs": [
        {
          "output_type": "stream",
          "text": [
            "WARNING: Logging before flag parsing goes to stderr.\n",
            "W0814 18:27:05.050798 140644614076288 deprecation_wrapper.py:119] From /usr/local/lib/python3.6/dist-packages/keras/backend/tensorflow_backend.py:74: The name tf.get_default_graph is deprecated. Please use tf.compat.v1.get_default_graph instead.\n",
            "\n",
            "W0814 18:27:05.089177 140644614076288 deprecation_wrapper.py:119] From /usr/local/lib/python3.6/dist-packages/keras/backend/tensorflow_backend.py:517: The name tf.placeholder is deprecated. Please use tf.compat.v1.placeholder instead.\n",
            "\n",
            "W0814 18:27:05.095760 140644614076288 deprecation_wrapper.py:119] From /usr/local/lib/python3.6/dist-packages/keras/backend/tensorflow_backend.py:4138: The name tf.random_uniform is deprecated. Please use tf.random.uniform instead.\n",
            "\n",
            "W0814 18:27:05.149190 140644614076288 deprecation_wrapper.py:119] From /usr/local/lib/python3.6/dist-packages/keras/backend/tensorflow_backend.py:3976: The name tf.nn.max_pool is deprecated. Please use tf.nn.max_pool2d instead.\n",
            "\n"
          ],
          "name": "stderr"
        }
      ]
    },
    {
      "cell_type": "code",
      "metadata": {
        "id": "TzdAYg1k9K7Z",
        "colab_type": "code",
        "outputId": "b5da478a-bb95-4853-f74e-c9254392dc6d",
        "colab": {
          "base_uri": "https://localhost:8080/",
          "height": 510
        }
      },
      "source": [
        "model.summary()"
      ],
      "execution_count": 11,
      "outputs": [
        {
          "output_type": "stream",
          "text": [
            "_________________________________________________________________\n",
            "Layer (type)                 Output Shape              Param #   \n",
            "=================================================================\n",
            "conv2d_1 (Conv2D)            (None, 26, 26, 32)        320       \n",
            "_________________________________________________________________\n",
            "conv2d_2 (Conv2D)            (None, 24, 24, 64)        18496     \n",
            "_________________________________________________________________\n",
            "conv2d_3 (Conv2D)            (None, 24, 24, 32)        2080      \n",
            "_________________________________________________________________\n",
            "max_pooling2d_1 (MaxPooling2 (None, 12, 12, 32)        0         \n",
            "_________________________________________________________________\n",
            "conv2d_4 (Conv2D)            (None, 10, 10, 32)        9248      \n",
            "_________________________________________________________________\n",
            "max_pooling2d_2 (MaxPooling2 (None, 5, 5, 32)          0         \n",
            "_________________________________________________________________\n",
            "conv2d_5 (Conv2D)            (None, 3, 3, 32)          9248      \n",
            "_________________________________________________________________\n",
            "conv2d_6 (Conv2D)            (None, 1, 1, 64)          18496     \n",
            "_________________________________________________________________\n",
            "conv2d_7 (Conv2D)            (None, 1, 1, 10)          650       \n",
            "_________________________________________________________________\n",
            "flatten_1 (Flatten)          (None, 10)                0         \n",
            "_________________________________________________________________\n",
            "activation_1 (Activation)    (None, 10)                0         \n",
            "=================================================================\n",
            "Total params: 58,538\n",
            "Trainable params: 58,538\n",
            "Non-trainable params: 0\n",
            "_________________________________________________________________\n"
          ],
          "name": "stdout"
        }
      ]
    },
    {
      "cell_type": "code",
      "metadata": {
        "id": "Zp6SuGrL9M3h",
        "colab_type": "code",
        "outputId": "7d68b751-dccf-48a3-d5ef-d27ed3e2f0e8",
        "colab": {
          "base_uri": "https://localhost:8080/",
          "height": 105
        }
      },
      "source": [
        "model.compile(loss='categorical_crossentropy',\n",
        "             optimizer='adam',\n",
        "             metrics=['accuracy'])"
      ],
      "execution_count": 12,
      "outputs": [
        {
          "output_type": "stream",
          "text": [
            "W0814 18:27:14.063277 140644614076288 deprecation_wrapper.py:119] From /usr/local/lib/python3.6/dist-packages/keras/optimizers.py:790: The name tf.train.Optimizer is deprecated. Please use tf.compat.v1.train.Optimizer instead.\n",
            "\n",
            "W0814 18:27:14.094885 140644614076288 deprecation_wrapper.py:119] From /usr/local/lib/python3.6/dist-packages/keras/backend/tensorflow_backend.py:3295: The name tf.log is deprecated. Please use tf.math.log instead.\n",
            "\n"
          ],
          "name": "stderr"
        }
      ]
    },
    {
      "cell_type": "code",
      "metadata": {
        "id": "4xWoKhPY9Of5",
        "colab_type": "code",
        "outputId": "bbc42436-ef31-4570-fdc0-3ab6a75b24ae",
        "colab": {
          "base_uri": "https://localhost:8080/",
          "height": 513
        }
      },
      "source": [
        "model.fit(X_train, Y_train, batch_size=32, nb_epoch=10, verbose=1)"
      ],
      "execution_count": 13,
      "outputs": [
        {
          "output_type": "stream",
          "text": [
            "/usr/local/lib/python3.6/dist-packages/ipykernel_launcher.py:1: UserWarning: The `nb_epoch` argument in `fit` has been renamed `epochs`.\n",
            "  \"\"\"Entry point for launching an IPython kernel.\n",
            "W0814 18:27:16.734807 140644614076288 deprecation.py:323] From /usr/local/lib/python3.6/dist-packages/tensorflow/python/ops/math_grad.py:1250: add_dispatch_support.<locals>.wrapper (from tensorflow.python.ops.array_ops) is deprecated and will be removed in a future version.\n",
            "Instructions for updating:\n",
            "Use tf.where in 2.0, which has the same broadcast rule as np.where\n",
            "W0814 18:27:16.911584 140644614076288 deprecation_wrapper.py:119] From /usr/local/lib/python3.6/dist-packages/keras/backend/tensorflow_backend.py:986: The name tf.assign_add is deprecated. Please use tf.compat.v1.assign_add instead.\n",
            "\n"
          ],
          "name": "stderr"
        },
        {
          "output_type": "stream",
          "text": [
            "Epoch 1/10\n",
            "60000/60000 [==============================] - 18s 300us/step - loss: 0.1475 - acc: 0.9540\n",
            "Epoch 2/10\n",
            "60000/60000 [==============================] - 11s 183us/step - loss: 0.0503 - acc: 0.9842\n",
            "Epoch 3/10\n",
            "60000/60000 [==============================] - 11s 179us/step - loss: 0.0375 - acc: 0.9891\n",
            "Epoch 4/10\n",
            "60000/60000 [==============================] - 11s 175us/step - loss: 0.0291 - acc: 0.9912\n",
            "Epoch 5/10\n",
            "60000/60000 [==============================] - 11s 176us/step - loss: 0.0249 - acc: 0.9920\n",
            "Epoch 6/10\n",
            "60000/60000 [==============================] - 11s 176us/step - loss: 0.0208 - acc: 0.9930\n",
            "Epoch 7/10\n",
            "60000/60000 [==============================] - 11s 175us/step - loss: 0.0180 - acc: 0.9941\n",
            "Epoch 8/10\n",
            "60000/60000 [==============================] - 10s 174us/step - loss: 0.0154 - acc: 0.9950\n",
            "Epoch 9/10\n",
            "60000/60000 [==============================] - 10s 175us/step - loss: 0.0137 - acc: 0.9954\n",
            "Epoch 10/10\n",
            "60000/60000 [==============================] - 10s 174us/step - loss: 0.0115 - acc: 0.9958\n"
          ],
          "name": "stdout"
        },
        {
          "output_type": "execute_result",
          "data": {
            "text/plain": [
              "<keras.callbacks.History at 0x7fea121862b0>"
            ]
          },
          "metadata": {
            "tags": []
          },
          "execution_count": 13
        }
      ]
    },
    {
      "cell_type": "code",
      "metadata": {
        "id": "AtsH-lLk-eLb",
        "colab_type": "code",
        "colab": {}
      },
      "source": [
        "score = model.evaluate(X_test, Y_test, verbose=0)"
      ],
      "execution_count": 0,
      "outputs": []
    },
    {
      "cell_type": "code",
      "metadata": {
        "id": "mkX8JMv79q9r",
        "colab_type": "code",
        "outputId": "cabed7f1-27bb-4740-a09c-dac476dc14af",
        "colab": {
          "base_uri": "https://localhost:8080/",
          "height": 34
        }
      },
      "source": [
        "print(score)"
      ],
      "execution_count": 15,
      "outputs": [
        {
          "output_type": "stream",
          "text": [
            "[0.027804834945105904, 0.9922]\n"
          ],
          "name": "stdout"
        }
      ]
    },
    {
      "cell_type": "code",
      "metadata": {
        "id": "OCWoJkwE9suh",
        "colab_type": "code",
        "colab": {}
      },
      "source": [
        "y_pred = model.predict(X_test)"
      ],
      "execution_count": 0,
      "outputs": []
    },
    {
      "cell_type": "code",
      "metadata": {
        "id": "Ym7iCFBm9uBs",
        "colab_type": "code",
        "outputId": "7281cb8c-5f2d-4af8-d2ef-2eeb745906bf",
        "colab": {
          "base_uri": "https://localhost:8080/",
          "height": 493
        }
      },
      "source": [
        "print(y_pred[:9])\n",
        "print(y_test[:9])"
      ],
      "execution_count": 17,
      "outputs": [
        {
          "output_type": "stream",
          "text": [
            "[[4.27672229e-15 2.55472021e-09 7.39618866e-10 4.45712564e-11\n",
            "  2.44306761e-07 2.84517028e-11 2.22641472e-16 9.99997139e-01\n",
            "  4.12740710e-11 2.63670449e-06]\n",
            " [3.73482623e-09 9.88576403e-07 9.99998808e-01 8.02897837e-09\n",
            "  1.49471564e-08 9.87151306e-14 1.26862801e-07 4.86266813e-08\n",
            "  2.00706403e-08 1.79948406e-12]\n",
            " [5.16342737e-08 9.99978304e-01 2.93628909e-06 2.32983272e-10\n",
            "  1.44822679e-05 3.13317685e-07 4.74139370e-07 3.15101033e-06\n",
            "  5.88106026e-08 2.13179675e-07]\n",
            " [9.99999046e-01 3.17802257e-10 8.74524508e-10 1.24590373e-11\n",
            "  6.46415088e-10 9.39780587e-10 3.87111157e-07 4.62548611e-10\n",
            "  5.71808755e-07 1.08563745e-08]\n",
            " [1.16488468e-11 3.71586130e-11 4.69358601e-13 1.88449909e-13\n",
            "  9.99942541e-01 6.42248088e-10 7.20044246e-10 1.98675052e-11\n",
            "  1.69076941e-09 5.74820187e-05]\n",
            " [3.64357589e-09 9.99991894e-01 9.33033050e-07 2.29102544e-12\n",
            "  6.83651251e-06 7.02556147e-09 5.67398963e-08 2.90958411e-07\n",
            "  4.54915217e-09 1.29027748e-08]\n",
            " [2.86335738e-21 4.62018336e-13 2.24403897e-14 2.37767442e-15\n",
            "  9.99999762e-01 3.80133987e-15 1.74741491e-19 4.76780793e-09\n",
            "  1.37270515e-08 1.82402673e-07]\n",
            " [1.99346765e-14 1.57024708e-12 2.60753936e-11 4.02025581e-13\n",
            "  5.20566346e-06 2.28627859e-12 4.55920579e-17 1.42193690e-09\n",
            "  6.68750666e-10 9.99994755e-01]\n",
            " [1.25014566e-07 1.70376797e-08 2.94665448e-09 7.83061971e-09\n",
            "  2.19345573e-08 6.93238795e-01 3.06659758e-01 3.53462992e-09\n",
            "  3.49647707e-05 6.63652754e-05]]\n",
            "[7 2 1 0 4 1 4 9 5]\n"
          ],
          "name": "stdout"
        }
      ]
    },
    {
      "cell_type": "markdown",
      "metadata": {
        "id": "HX3nHavvZ6Xu",
        "colab_type": "text"
      },
      "source": [
        "# Second Code\n",
        " In this code there is addition of :\n",
        " * Addition of Batch Normalization.\n",
        " * Change in number of channels. \n",
        " * Batch size increased to 64\n",
        " "
      ]
    },
    {
      "cell_type": "code",
      "metadata": {
        "id": "sVA7hbYqQzSX",
        "colab_type": "code",
        "colab": {}
      },
      "source": [
        "model_2=Sequential()"
      ],
      "execution_count": 0,
      "outputs": []
    },
    {
      "cell_type": "code",
      "metadata": {
        "id": "zrFO4gWJOT3W",
        "colab_type": "code",
        "outputId": "ca0436d7-fc36-4bfe-bf50-f86c14e157e9",
        "colab": {
          "base_uri": "https://localhost:8080/",
          "height": 275
        }
      },
      "source": [
        "# Network 2\n",
        "\n",
        "model_2.add(Convolution2D(10,3,3,activation='relu',input_shape=(28,28,1))) #26\n",
        "model_2.add(BatchNormalization())\n",
        "\n",
        "model_2.add(Convolution2D(16,3,3,activation='relu'))\n",
        "model_2.add(BatchNormalization())\n",
        "\n",
        "model_2.add(Convolution2D(32,3,3,activation='relu')) \n",
        "model_2.add(BatchNormalization())\n",
        "\n",
        "model_2.add(MaxPooling2D(2,2)) #12\n",
        "\n",
        "model_2.add(Convolution2D(10,1,1,activation='relu')) #12\n",
        "model_2.add(BatchNormalization())\n",
        "\n",
        "model_2.add(Convolution2D(16,3,3,activation='relu')) \n",
        "model_2.add(BatchNormalization())\n",
        "\n",
        "model_2.add(Convolution2D(32,3,3,activation='relu')) #10\n",
        "model_2.add(BatchNormalization())\n",
        "\n",
        "model_2.add(Convolution2D(10,1,1,activation='relu')) #5\n",
        "model_2.add(Convolution2D(10,7))\n",
        "\n",
        "model_2.add(Flatten())\n",
        "model_2.add(Activation('softmax'))"
      ],
      "execution_count": 19,
      "outputs": [
        {
          "output_type": "stream",
          "text": [
            "/usr/local/lib/python3.6/dist-packages/ipykernel_launcher.py:2: UserWarning: Update your `Conv2D` call to the Keras 2 API: `Conv2D(10, (3, 3), activation=\"relu\", input_shape=(28, 28, 1...)`\n",
            "  \n",
            "W0814 18:45:05.924629 140644614076288 deprecation_wrapper.py:119] From /usr/local/lib/python3.6/dist-packages/keras/backend/tensorflow_backend.py:1834: The name tf.nn.fused_batch_norm is deprecated. Please use tf.compat.v1.nn.fused_batch_norm instead.\n",
            "\n",
            "/usr/local/lib/python3.6/dist-packages/ipykernel_launcher.py:5: UserWarning: Update your `Conv2D` call to the Keras 2 API: `Conv2D(16, (3, 3), activation=\"relu\")`\n",
            "  \"\"\"\n",
            "/usr/local/lib/python3.6/dist-packages/ipykernel_launcher.py:8: UserWarning: Update your `Conv2D` call to the Keras 2 API: `Conv2D(32, (3, 3), activation=\"relu\")`\n",
            "  \n",
            "/usr/local/lib/python3.6/dist-packages/ipykernel_launcher.py:13: UserWarning: Update your `Conv2D` call to the Keras 2 API: `Conv2D(10, (1, 1), activation=\"relu\")`\n",
            "  del sys.path[0]\n",
            "/usr/local/lib/python3.6/dist-packages/ipykernel_launcher.py:16: UserWarning: Update your `Conv2D` call to the Keras 2 API: `Conv2D(16, (3, 3), activation=\"relu\")`\n",
            "  app.launch_new_instance()\n",
            "/usr/local/lib/python3.6/dist-packages/ipykernel_launcher.py:19: UserWarning: Update your `Conv2D` call to the Keras 2 API: `Conv2D(32, (3, 3), activation=\"relu\")`\n",
            "/usr/local/lib/python3.6/dist-packages/ipykernel_launcher.py:22: UserWarning: Update your `Conv2D` call to the Keras 2 API: `Conv2D(10, (1, 1), activation=\"relu\")`\n"
          ],
          "name": "stderr"
        }
      ]
    },
    {
      "cell_type": "code",
      "metadata": {
        "id": "HcRjoe5UQwAB",
        "colab_type": "code",
        "outputId": "749ed233-108b-4096-b788-a7761f9ccdbd",
        "colab": {
          "base_uri": "https://localhost:8080/",
          "height": 714
        }
      },
      "source": [
        "model_2.summary()"
      ],
      "execution_count": 20,
      "outputs": [
        {
          "output_type": "stream",
          "text": [
            "_________________________________________________________________\n",
            "Layer (type)                 Output Shape              Param #   \n",
            "=================================================================\n",
            "conv2d_8 (Conv2D)            (None, 26, 26, 10)        100       \n",
            "_________________________________________________________________\n",
            "batch_normalization_1 (Batch (None, 26, 26, 10)        40        \n",
            "_________________________________________________________________\n",
            "conv2d_9 (Conv2D)            (None, 24, 24, 16)        1456      \n",
            "_________________________________________________________________\n",
            "batch_normalization_2 (Batch (None, 24, 24, 16)        64        \n",
            "_________________________________________________________________\n",
            "conv2d_10 (Conv2D)           (None, 22, 22, 32)        4640      \n",
            "_________________________________________________________________\n",
            "batch_normalization_3 (Batch (None, 22, 22, 32)        128       \n",
            "_________________________________________________________________\n",
            "max_pooling2d_3 (MaxPooling2 (None, 11, 11, 32)        0         \n",
            "_________________________________________________________________\n",
            "conv2d_11 (Conv2D)           (None, 11, 11, 10)        330       \n",
            "_________________________________________________________________\n",
            "batch_normalization_4 (Batch (None, 11, 11, 10)        40        \n",
            "_________________________________________________________________\n",
            "conv2d_12 (Conv2D)           (None, 9, 9, 16)          1456      \n",
            "_________________________________________________________________\n",
            "batch_normalization_5 (Batch (None, 9, 9, 16)          64        \n",
            "_________________________________________________________________\n",
            "conv2d_13 (Conv2D)           (None, 7, 7, 32)          4640      \n",
            "_________________________________________________________________\n",
            "batch_normalization_6 (Batch (None, 7, 7, 32)          128       \n",
            "_________________________________________________________________\n",
            "conv2d_14 (Conv2D)           (None, 7, 7, 10)          330       \n",
            "_________________________________________________________________\n",
            "conv2d_15 (Conv2D)           (None, 1, 1, 10)          4910      \n",
            "_________________________________________________________________\n",
            "flatten_2 (Flatten)          (None, 10)                0         \n",
            "_________________________________________________________________\n",
            "activation_2 (Activation)    (None, 10)                0         \n",
            "=================================================================\n",
            "Total params: 18,326\n",
            "Trainable params: 18,094\n",
            "Non-trainable params: 232\n",
            "_________________________________________________________________\n"
          ],
          "name": "stdout"
        }
      ]
    },
    {
      "cell_type": "code",
      "metadata": {
        "id": "063VbVxyo9KE",
        "colab_type": "code",
        "colab": {}
      },
      "source": [
        "model_2.compile(loss='categorical_crossentropy',\n",
        "             optimizer='adam',\n",
        "             metrics=['accuracy'])"
      ],
      "execution_count": 0,
      "outputs": []
    },
    {
      "cell_type": "code",
      "metadata": {
        "id": "4OWn_YTupDRY",
        "colab_type": "code",
        "colab": {
          "base_uri": "https://localhost:8080/",
          "height": 408
        },
        "outputId": "2c23170f-1137-421b-f684-aece97c25694"
      },
      "source": [
        "model_2.fit(X_train, Y_train, batch_size=64, nb_epoch=10, verbose=1)"
      ],
      "execution_count": 22,
      "outputs": [
        {
          "output_type": "stream",
          "text": [
            "/usr/local/lib/python3.6/dist-packages/ipykernel_launcher.py:1: UserWarning: The `nb_epoch` argument in `fit` has been renamed `epochs`.\n",
            "  \"\"\"Entry point for launching an IPython kernel.\n"
          ],
          "name": "stderr"
        },
        {
          "output_type": "stream",
          "text": [
            "Epoch 1/10\n",
            "60000/60000 [==============================] - 11s 179us/step - loss: 0.1551 - acc: 0.9517\n",
            "Epoch 2/10\n",
            "60000/60000 [==============================] - 9s 157us/step - loss: 0.0492 - acc: 0.9850\n",
            "Epoch 3/10\n",
            "60000/60000 [==============================] - 9s 158us/step - loss: 0.0379 - acc: 0.9881\n",
            "Epoch 4/10\n",
            "60000/60000 [==============================] - 10s 160us/step - loss: 0.0297 - acc: 0.9903\n",
            "Epoch 5/10\n",
            "60000/60000 [==============================] - 10s 160us/step - loss: 0.0248 - acc: 0.9922\n",
            "Epoch 6/10\n",
            "60000/60000 [==============================] - 9s 158us/step - loss: 0.0230 - acc: 0.9921\n",
            "Epoch 7/10\n",
            "60000/60000 [==============================] - 9s 158us/step - loss: 0.0186 - acc: 0.9938\n",
            "Epoch 8/10\n",
            "60000/60000 [==============================] - 9s 158us/step - loss: 0.0188 - acc: 0.9936\n",
            "Epoch 9/10\n",
            "60000/60000 [==============================] - 9s 156us/step - loss: 0.0159 - acc: 0.9950\n",
            "Epoch 10/10\n",
            "60000/60000 [==============================] - 9s 156us/step - loss: 0.0133 - acc: 0.9953\n"
          ],
          "name": "stdout"
        },
        {
          "output_type": "execute_result",
          "data": {
            "text/plain": [
              "<keras.callbacks.History at 0x7fea044a1a58>"
            ]
          },
          "metadata": {
            "tags": []
          },
          "execution_count": 22
        }
      ]
    },
    {
      "cell_type": "code",
      "metadata": {
        "id": "Bw4jcskND97R",
        "colab_type": "code",
        "colab": {}
      },
      "source": [
        "score_2 = model_2.evaluate(X_test, Y_test, verbose=0)"
      ],
      "execution_count": 0,
      "outputs": []
    },
    {
      "cell_type": "code",
      "metadata": {
        "id": "e4o1paAjD_Wv",
        "colab_type": "code",
        "colab": {
          "base_uri": "https://localhost:8080/",
          "height": 34
        },
        "outputId": "59e94fab-d78c-43d4-d696-e501e103e3f5"
      },
      "source": [
        "print(score_2)"
      ],
      "execution_count": 25,
      "outputs": [
        {
          "output_type": "stream",
          "text": [
            "[0.034738795965200915, 0.9899]\n"
          ],
          "name": "stdout"
        }
      ]
    },
    {
      "cell_type": "markdown",
      "metadata": {
        "id": "bzAMfhMvcOm3",
        "colab_type": "text"
      },
      "source": [
        "# Observations :\n",
        "* The number of parameters dropped to 18k and the Accuracy of model is 98.99% after 10 epochs."
      ]
    },
    {
      "cell_type": "markdown",
      "metadata": {
        "id": "aX_HrqwIcziW",
        "colab_type": "text"
      },
      "source": [
        "# Third Code\n",
        "\n",
        "* Addition of Dropout layers.\n",
        "*  Using SGD optimizer. "
      ]
    },
    {
      "cell_type": "code",
      "metadata": {
        "id": "TW2jAEvCET5B",
        "colab_type": "code",
        "colab": {
          "base_uri": "https://localhost:8080/",
          "height": 292
        },
        "outputId": "06dfa4a8-b8d7-42af-e55e-5b6926ae9c70"
      },
      "source": [
        "model_3=Sequential()\n",
        "\n",
        "model_3.add(Convolution2D(8,3,3,activation='relu',input_shape=(28,28,1)))\n",
        "model_3.add(BatchNormalization())\n",
        "model_3.add(Convolution2D(16,3,3,activation='relu'))\n",
        "model_3.add(BatchNormalization())\n",
        "model_3.add(Convolution2D(32,3,3,activation='relu'))\n",
        "model_3.add(BatchNormalization())\n",
        "\n",
        "model_3.add(Dropout(0.1))\n",
        "\n",
        "model_3.add(MaxPooling2D(2,2))\n",
        "model_3.add(Convolution2D(8,1,1,activation='relu'))\n",
        "model_3.add(BatchNormalization())\n",
        "\n",
        "\n",
        "model_3.add(Convolution2D(16,3,3,activation='relu'))\n",
        "model_3.add(BatchNormalization())\n",
        "model_3.add(Convolution2D(32,3,3,activation='relu'))\n",
        "model_3.add(BatchNormalization())\n",
        "\n",
        "model_3.add(Convolution2D(10,1,1,activation='relu'))\n",
        "model_3.add(BatchNormalization())\n",
        "model_3.add(Convolution2D(10,3,3,activation='relu'))\n",
        "model_3.add(BatchNormalization())\n",
        "\n",
        "model_3.add(Convolution2D(10,5))\n",
        "model_3.add(BatchNormalization())\n",
        "\n",
        "model_3.add(Flatten())\n",
        "\n",
        "model_3.add(Activation('softmax'))\n",
        "\n"
      ],
      "execution_count": 27,
      "outputs": [
        {
          "output_type": "stream",
          "text": [
            "/usr/local/lib/python3.6/dist-packages/ipykernel_launcher.py:3: UserWarning: Update your `Conv2D` call to the Keras 2 API: `Conv2D(8, (3, 3), activation=\"relu\", input_shape=(28, 28, 1...)`\n",
            "  This is separate from the ipykernel package so we can avoid doing imports until\n",
            "/usr/local/lib/python3.6/dist-packages/ipykernel_launcher.py:5: UserWarning: Update your `Conv2D` call to the Keras 2 API: `Conv2D(16, (3, 3), activation=\"relu\")`\n",
            "  \"\"\"\n",
            "/usr/local/lib/python3.6/dist-packages/ipykernel_launcher.py:7: UserWarning: Update your `Conv2D` call to the Keras 2 API: `Conv2D(32, (3, 3), activation=\"relu\")`\n",
            "  import sys\n",
            "W0814 18:52:24.607777 140644614076288 deprecation.py:506] From /usr/local/lib/python3.6/dist-packages/keras/backend/tensorflow_backend.py:3445: calling dropout (from tensorflow.python.ops.nn_ops) with keep_prob is deprecated and will be removed in a future version.\n",
            "Instructions for updating:\n",
            "Please use `rate` instead of `keep_prob`. Rate should be set to `rate = 1 - keep_prob`.\n",
            "/usr/local/lib/python3.6/dist-packages/ipykernel_launcher.py:13: UserWarning: Update your `Conv2D` call to the Keras 2 API: `Conv2D(8, (1, 1), activation=\"relu\")`\n",
            "  del sys.path[0]\n",
            "/usr/local/lib/python3.6/dist-packages/ipykernel_launcher.py:17: UserWarning: Update your `Conv2D` call to the Keras 2 API: `Conv2D(16, (3, 3), activation=\"relu\")`\n",
            "/usr/local/lib/python3.6/dist-packages/ipykernel_launcher.py:19: UserWarning: Update your `Conv2D` call to the Keras 2 API: `Conv2D(32, (3, 3), activation=\"relu\")`\n",
            "/usr/local/lib/python3.6/dist-packages/ipykernel_launcher.py:22: UserWarning: Update your `Conv2D` call to the Keras 2 API: `Conv2D(10, (1, 1), activation=\"relu\")`\n",
            "/usr/local/lib/python3.6/dist-packages/ipykernel_launcher.py:24: UserWarning: Update your `Conv2D` call to the Keras 2 API: `Conv2D(10, (3, 3), activation=\"relu\")`\n"
          ],
          "name": "stderr"
        }
      ]
    },
    {
      "cell_type": "code",
      "metadata": {
        "id": "HmANQZeIETp2",
        "colab_type": "code",
        "colab": {
          "base_uri": "https://localhost:8080/",
          "height": 884
        },
        "outputId": "82bbaf87-f22a-4722-d95c-0104df88d198"
      },
      "source": [
        "model_3.summary()"
      ],
      "execution_count": 28,
      "outputs": [
        {
          "output_type": "stream",
          "text": [
            "_________________________________________________________________\n",
            "Layer (type)                 Output Shape              Param #   \n",
            "=================================================================\n",
            "conv2d_16 (Conv2D)           (None, 26, 26, 8)         80        \n",
            "_________________________________________________________________\n",
            "batch_normalization_7 (Batch (None, 26, 26, 8)         32        \n",
            "_________________________________________________________________\n",
            "conv2d_17 (Conv2D)           (None, 24, 24, 16)        1168      \n",
            "_________________________________________________________________\n",
            "batch_normalization_8 (Batch (None, 24, 24, 16)        64        \n",
            "_________________________________________________________________\n",
            "conv2d_18 (Conv2D)           (None, 22, 22, 32)        4640      \n",
            "_________________________________________________________________\n",
            "batch_normalization_9 (Batch (None, 22, 22, 32)        128       \n",
            "_________________________________________________________________\n",
            "dropout_1 (Dropout)          (None, 22, 22, 32)        0         \n",
            "_________________________________________________________________\n",
            "max_pooling2d_4 (MaxPooling2 (None, 11, 11, 32)        0         \n",
            "_________________________________________________________________\n",
            "conv2d_19 (Conv2D)           (None, 11, 11, 8)         264       \n",
            "_________________________________________________________________\n",
            "batch_normalization_10 (Batc (None, 11, 11, 8)         32        \n",
            "_________________________________________________________________\n",
            "conv2d_20 (Conv2D)           (None, 9, 9, 16)          1168      \n",
            "_________________________________________________________________\n",
            "batch_normalization_11 (Batc (None, 9, 9, 16)          64        \n",
            "_________________________________________________________________\n",
            "conv2d_21 (Conv2D)           (None, 7, 7, 32)          4640      \n",
            "_________________________________________________________________\n",
            "batch_normalization_12 (Batc (None, 7, 7, 32)          128       \n",
            "_________________________________________________________________\n",
            "conv2d_22 (Conv2D)           (None, 7, 7, 10)          330       \n",
            "_________________________________________________________________\n",
            "batch_normalization_13 (Batc (None, 7, 7, 10)          40        \n",
            "_________________________________________________________________\n",
            "conv2d_23 (Conv2D)           (None, 5, 5, 10)          910       \n",
            "_________________________________________________________________\n",
            "batch_normalization_14 (Batc (None, 5, 5, 10)          40        \n",
            "_________________________________________________________________\n",
            "conv2d_24 (Conv2D)           (None, 1, 1, 10)          2510      \n",
            "_________________________________________________________________\n",
            "batch_normalization_15 (Batc (None, 1, 1, 10)          40        \n",
            "_________________________________________________________________\n",
            "flatten_3 (Flatten)          (None, 10)                0         \n",
            "_________________________________________________________________\n",
            "activation_3 (Activation)    (None, 10)                0         \n",
            "=================================================================\n",
            "Total params: 16,278\n",
            "Trainable params: 15,994\n",
            "Non-trainable params: 284\n",
            "_________________________________________________________________\n"
          ],
          "name": "stdout"
        }
      ]
    },
    {
      "cell_type": "code",
      "metadata": {
        "id": "vKtI55H1JpYv",
        "colab_type": "code",
        "colab": {}
      },
      "source": [
        "model_3.compile(loss='categorical_crossentropy',\n",
        "             optimizer='SGD',\n",
        "             metrics=['accuracy'])"
      ],
      "execution_count": 0,
      "outputs": []
    },
    {
      "cell_type": "code",
      "metadata": {
        "id": "d1SMcwb5ETbz",
        "colab_type": "code",
        "colab": {
          "base_uri": "https://localhost:8080/",
          "height": 374
        },
        "outputId": "9a2a95a3-3435-4f9b-d3c3-d505ad35f228"
      },
      "source": [
        "model_3.fit(X_train,Y_train,batch_size=64,epochs=10,verbose=1)"
      ],
      "execution_count": 31,
      "outputs": [
        {
          "output_type": "stream",
          "text": [
            "Epoch 1/10\n",
            "60000/60000 [==============================] - 10s 172us/step - loss: 0.1813 - acc: 0.9681\n",
            "Epoch 2/10\n",
            "60000/60000 [==============================] - 10s 169us/step - loss: 0.1440 - acc: 0.9729\n",
            "Epoch 3/10\n",
            "60000/60000 [==============================] - 10s 167us/step - loss: 0.1200 - acc: 0.9770\n",
            "Epoch 4/10\n",
            "60000/60000 [==============================] - 10s 166us/step - loss: 0.1085 - acc: 0.9790\n",
            "Epoch 5/10\n",
            "60000/60000 [==============================] - 10s 166us/step - loss: 0.0945 - acc: 0.9811\n",
            "Epoch 6/10\n",
            "60000/60000 [==============================] - 10s 167us/step - loss: 0.0876 - acc: 0.9815\n",
            "Epoch 7/10\n",
            "60000/60000 [==============================] - 10s 167us/step - loss: 0.0782 - acc: 0.9839\n",
            "Epoch 8/10\n",
            "60000/60000 [==============================] - 10s 167us/step - loss: 0.0724 - acc: 0.9847\n",
            "Epoch 9/10\n",
            "60000/60000 [==============================] - 10s 166us/step - loss: 0.0702 - acc: 0.9847\n",
            "Epoch 10/10\n",
            "60000/60000 [==============================] - 10s 166us/step - loss: 0.0652 - acc: 0.9859\n"
          ],
          "name": "stdout"
        },
        {
          "output_type": "execute_result",
          "data": {
            "text/plain": [
              "<keras.callbacks.History at 0x7fe9b653c0f0>"
            ]
          },
          "metadata": {
            "tags": []
          },
          "execution_count": 31
        }
      ]
    },
    {
      "cell_type": "code",
      "metadata": {
        "id": "KeBXmlUOe55I",
        "colab_type": "code",
        "colab": {
          "base_uri": "https://localhost:8080/",
          "height": 204
        },
        "outputId": "f1b27cfd-200d-428a-e575-094effa9a7b3"
      },
      "source": [
        "model_3.fit(X_train,Y_train,batch_size=64,epochs=5,verbose=1)"
      ],
      "execution_count": 32,
      "outputs": [
        {
          "output_type": "stream",
          "text": [
            "Epoch 1/5\n",
            "60000/60000 [==============================] - 10s 168us/step - loss: 0.0611 - acc: 0.9868\n",
            "Epoch 2/5\n",
            "60000/60000 [==============================] - 10s 171us/step - loss: 0.0572 - acc: 0.9876\n",
            "Epoch 3/5\n",
            "60000/60000 [==============================] - 11s 179us/step - loss: 0.0548 - acc: 0.9876\n",
            "Epoch 4/5\n",
            "60000/60000 [==============================] - 10s 171us/step - loss: 0.0528 - acc: 0.9885\n",
            "Epoch 5/5\n",
            "60000/60000 [==============================] - 10s 166us/step - loss: 0.0519 - acc: 0.9881\n"
          ],
          "name": "stdout"
        },
        {
          "output_type": "execute_result",
          "data": {
            "text/plain": [
              "<keras.callbacks.History at 0x7fea00661400>"
            ]
          },
          "metadata": {
            "tags": []
          },
          "execution_count": 32
        }
      ]
    },
    {
      "cell_type": "code",
      "metadata": {
        "id": "s4BoYO3UfSti",
        "colab_type": "code",
        "colab": {
          "base_uri": "https://localhost:8080/",
          "height": 374
        },
        "outputId": "fb93d797-de82-45ee-fdae-b5e2f4c95a69"
      },
      "source": [
        "model_3.fit(X_train,Y_train,batch_size=64,epochs=10,verbose=1)"
      ],
      "execution_count": 34,
      "outputs": [
        {
          "output_type": "stream",
          "text": [
            "Epoch 1/10\n",
            "60000/60000 [==============================] - 10s 167us/step - loss: 0.0495 - acc: 0.9888\n",
            "Epoch 2/10\n",
            "60000/60000 [==============================] - 10s 165us/step - loss: 0.0469 - acc: 0.9897\n",
            "Epoch 3/10\n",
            "60000/60000 [==============================] - 10s 165us/step - loss: 0.0452 - acc: 0.9899\n",
            "Epoch 4/10\n",
            "60000/60000 [==============================] - 10s 166us/step - loss: 0.0431 - acc: 0.9902\n",
            "Epoch 5/10\n",
            "60000/60000 [==============================] - 10s 166us/step - loss: 0.0422 - acc: 0.9906\n",
            "Epoch 6/10\n",
            "60000/60000 [==============================] - 10s 169us/step - loss: 0.0419 - acc: 0.9904\n",
            "Epoch 7/10\n",
            "60000/60000 [==============================] - 10s 167us/step - loss: 0.0387 - acc: 0.9918\n",
            "Epoch 8/10\n",
            "60000/60000 [==============================] - 10s 166us/step - loss: 0.0381 - acc: 0.9914\n",
            "Epoch 9/10\n",
            "60000/60000 [==============================] - 10s 166us/step - loss: 0.0365 - acc: 0.9916\n",
            "Epoch 10/10\n",
            "60000/60000 [==============================] - 10s 168us/step - loss: 0.0361 - acc: 0.9924\n"
          ],
          "name": "stdout"
        },
        {
          "output_type": "execute_result",
          "data": {
            "text/plain": [
              "<keras.callbacks.History at 0x7fe9b654b358>"
            ]
          },
          "metadata": {
            "tags": []
          },
          "execution_count": 34
        }
      ]
    },
    {
      "cell_type": "code",
      "metadata": {
        "id": "G9ICeVjyETSE",
        "colab_type": "code",
        "colab": {
          "base_uri": "https://localhost:8080/",
          "height": 34
        },
        "outputId": "42ad56d8-c211-4540-f1bb-fdd7245e686d"
      },
      "source": [
        "model_3.evaluate(X_test, Y_test, verbose=0)"
      ],
      "execution_count": 35,
      "outputs": [
        {
          "output_type": "execute_result",
          "data": {
            "text/plain": [
              "[0.031014357667788862, 0.9921]"
            ]
          },
          "metadata": {
            "tags": []
          },
          "execution_count": 35
        }
      ]
    },
    {
      "cell_type": "markdown",
      "metadata": {
        "id": "YwpGI8GNehQM",
        "colab_type": "text"
      },
      "source": [
        "# Observations \n",
        " The number of parameters have been reduced to 16k, the model was trained for 25 epochs to see if there wil be a case of overfitting the model even after the addition of Dropout layers. The resulting Vacc is 99.21% and the model did not overfit.  "
      ]
    },
    {
      "cell_type": "markdown",
      "metadata": {
        "id": "dzFIDFQWejfG",
        "colab_type": "text"
      },
      "source": [
        "# Fourth code\n",
        "* Addition of Dropout after every layer & increase batch size to 128.\n",
        "* Using scheduler to change the learning rate for every epoch.\n",
        "* Introducing calbacks."
      ]
    },
    {
      "cell_type": "code",
      "metadata": {
        "id": "cUeBsSTXNFGt",
        "colab_type": "code",
        "colab": {
          "base_uri": "https://localhost:8080/",
          "height": 241
        },
        "outputId": "d428d95d-830d-4ed3-d21d-175ef9297d46"
      },
      "source": [
        "model_4=Sequential()\n",
        "\n",
        "model_4.add(Convolution2D(10,3,3,activation='relu',input_shape=(28,28,1)))\n",
        "model_4.add(BatchNormalization())\n",
        "model_4.add(Dropout(0.1))\n",
        "model_4.add(Convolution2D(16,3,3,activation='relu'))\n",
        "model_4.add(BatchNormalization())\n",
        "\n",
        "model_4.add(Dropout(0.1))\n",
        "\n",
        "model_4.add(Convolution2D(10,1,1,activation='relu'))\n",
        "model_4.add(MaxPooling2D(2,2))\n",
        "\n",
        "model_4.add(Convolution2D(16,3,3,activation='relu'))\n",
        "model_4.add(BatchNormalization())\n",
        "model_4.add(Dropout(0.1))\n",
        "\n",
        "model_4.add(Convolution2D(32,3,3,activation='relu'))\n",
        "model_4.add(BatchNormalization())\n",
        "model_4.add(Dropout(0.1))\n",
        "\n",
        "model_4.add(Convolution2D(10,1,1,activation='relu'))\n",
        "model_4.add(BatchNormalization())\n",
        "model_4.add(Dropout(0.1))\n",
        "\n",
        "model_4.add(Convolution2D(16,3,3,activation='relu'))\n",
        "model_4.add(BatchNormalization())\n",
        "model_4.add(Dropout(0.1))\n",
        "\n",
        "model_4.add(MaxPooling2D(2,2))\n",
        "\n",
        "model_4.add(Dropout(0.1))\n",
        "\n",
        "model_4.add(Convolution2D(10,3,3))\n",
        "\n",
        "model_4.add(Flatten())\n",
        "\n",
        "model_4.add(Activation('softmax'))"
      ],
      "execution_count": 48,
      "outputs": [
        {
          "output_type": "stream",
          "text": [
            "/usr/local/lib/python3.6/dist-packages/ipykernel_launcher.py:3: UserWarning: Update your `Conv2D` call to the Keras 2 API: `Conv2D(10, (3, 3), activation=\"relu\", input_shape=(28, 28, 1...)`\n",
            "  This is separate from the ipykernel package so we can avoid doing imports until\n",
            "/usr/local/lib/python3.6/dist-packages/ipykernel_launcher.py:6: UserWarning: Update your `Conv2D` call to the Keras 2 API: `Conv2D(16, (3, 3), activation=\"relu\")`\n",
            "  \n",
            "/usr/local/lib/python3.6/dist-packages/ipykernel_launcher.py:11: UserWarning: Update your `Conv2D` call to the Keras 2 API: `Conv2D(10, (1, 1), activation=\"relu\")`\n",
            "  # This is added back by InteractiveShellApp.init_path()\n",
            "/usr/local/lib/python3.6/dist-packages/ipykernel_launcher.py:14: UserWarning: Update your `Conv2D` call to the Keras 2 API: `Conv2D(16, (3, 3), activation=\"relu\")`\n",
            "  \n",
            "/usr/local/lib/python3.6/dist-packages/ipykernel_launcher.py:18: UserWarning: Update your `Conv2D` call to the Keras 2 API: `Conv2D(32, (3, 3), activation=\"relu\")`\n",
            "/usr/local/lib/python3.6/dist-packages/ipykernel_launcher.py:22: UserWarning: Update your `Conv2D` call to the Keras 2 API: `Conv2D(10, (1, 1), activation=\"relu\")`\n",
            "/usr/local/lib/python3.6/dist-packages/ipykernel_launcher.py:26: UserWarning: Update your `Conv2D` call to the Keras 2 API: `Conv2D(16, (3, 3), activation=\"relu\")`\n",
            "/usr/local/lib/python3.6/dist-packages/ipykernel_launcher.py:34: UserWarning: Update your `Conv2D` call to the Keras 2 API: `Conv2D(10, (3, 3))`\n"
          ],
          "name": "stderr"
        }
      ]
    },
    {
      "cell_type": "code",
      "metadata": {
        "id": "jTcakqcVNE7_",
        "colab_type": "code",
        "colab": {
          "base_uri": "https://localhost:8080/",
          "height": 986
        },
        "outputId": "d6b27f61-d134-4280-fe63-7526b2b6539a"
      },
      "source": [
        "model_4.summary()"
      ],
      "execution_count": 49,
      "outputs": [
        {
          "output_type": "stream",
          "text": [
            "_________________________________________________________________\n",
            "Layer (type)                 Output Shape              Param #   \n",
            "=================================================================\n",
            "conv2d_33 (Conv2D)           (None, 26, 26, 10)        100       \n",
            "_________________________________________________________________\n",
            "batch_normalization_22 (Batc (None, 26, 26, 10)        40        \n",
            "_________________________________________________________________\n",
            "dropout_9 (Dropout)          (None, 26, 26, 10)        0         \n",
            "_________________________________________________________________\n",
            "conv2d_34 (Conv2D)           (None, 24, 24, 16)        1456      \n",
            "_________________________________________________________________\n",
            "batch_normalization_23 (Batc (None, 24, 24, 16)        64        \n",
            "_________________________________________________________________\n",
            "dropout_10 (Dropout)         (None, 24, 24, 16)        0         \n",
            "_________________________________________________________________\n",
            "conv2d_35 (Conv2D)           (None, 24, 24, 10)        170       \n",
            "_________________________________________________________________\n",
            "max_pooling2d_7 (MaxPooling2 (None, 12, 12, 10)        0         \n",
            "_________________________________________________________________\n",
            "conv2d_36 (Conv2D)           (None, 10, 10, 16)        1456      \n",
            "_________________________________________________________________\n",
            "batch_normalization_24 (Batc (None, 10, 10, 16)        64        \n",
            "_________________________________________________________________\n",
            "dropout_11 (Dropout)         (None, 10, 10, 16)        0         \n",
            "_________________________________________________________________\n",
            "conv2d_37 (Conv2D)           (None, 8, 8, 32)          4640      \n",
            "_________________________________________________________________\n",
            "batch_normalization_25 (Batc (None, 8, 8, 32)          128       \n",
            "_________________________________________________________________\n",
            "dropout_12 (Dropout)         (None, 8, 8, 32)          0         \n",
            "_________________________________________________________________\n",
            "conv2d_38 (Conv2D)           (None, 8, 8, 10)          330       \n",
            "_________________________________________________________________\n",
            "batch_normalization_26 (Batc (None, 8, 8, 10)          40        \n",
            "_________________________________________________________________\n",
            "dropout_13 (Dropout)         (None, 8, 8, 10)          0         \n",
            "_________________________________________________________________\n",
            "conv2d_39 (Conv2D)           (None, 6, 6, 16)          1456      \n",
            "_________________________________________________________________\n",
            "batch_normalization_27 (Batc (None, 6, 6, 16)          64        \n",
            "_________________________________________________________________\n",
            "dropout_14 (Dropout)         (None, 6, 6, 16)          0         \n",
            "_________________________________________________________________\n",
            "max_pooling2d_8 (MaxPooling2 (None, 3, 3, 16)          0         \n",
            "_________________________________________________________________\n",
            "dropout_15 (Dropout)         (None, 3, 3, 16)          0         \n",
            "_________________________________________________________________\n",
            "conv2d_40 (Conv2D)           (None, 1, 1, 10)          1450      \n",
            "_________________________________________________________________\n",
            "flatten_5 (Flatten)          (None, 10)                0         \n",
            "_________________________________________________________________\n",
            "activation_5 (Activation)    (None, 10)                0         \n",
            "=================================================================\n",
            "Total params: 11,458\n",
            "Trainable params: 11,258\n",
            "Non-trainable params: 200\n",
            "_________________________________________________________________\n"
          ],
          "name": "stdout"
        }
      ]
    },
    {
      "cell_type": "code",
      "metadata": {
        "id": "lWpYA2VPNEwx",
        "colab_type": "code",
        "colab": {}
      },
      "source": [
        "model_4.compile(loss='categorical_crossentropy',\n",
        "             optimizer='adam',\n",
        "             metrics=['accuracy'])"
      ],
      "execution_count": 0,
      "outputs": []
    },
    {
      "cell_type": "code",
      "metadata": {
        "id": "G4X5GtkceonR",
        "colab_type": "code",
        "colab": {}
      },
      "source": [
        "from keras.callbacks import LearningRateScheduler"
      ],
      "execution_count": 0,
      "outputs": []
    },
    {
      "cell_type": "code",
      "metadata": {
        "id": "KEnE5E-ye3JE",
        "colab_type": "code",
        "colab": {}
      },
      "source": [
        "def scheduler(epoch, lr):\n",
        "  return round(0.003 * 1/(1 + 0.319 * epoch), 10)"
      ],
      "execution_count": 0,
      "outputs": []
    },
    {
      "cell_type": "code",
      "metadata": {
        "id": "6_V9K2_RNElD",
        "colab_type": "code",
        "colab": {
          "base_uri": "https://localhost:8080/",
          "height": 1000
        },
        "outputId": "59de2ea8-9b7a-4754-fff3-c3a7722b6798"
      },
      "source": [
        "model_4.fit(X_train, Y_train, batch_size=128, epochs=20, verbose=1, validation_data=(X_test, Y_test), callbacks=[LearningRateScheduler(scheduler, verbose=1)])"
      ],
      "execution_count": 53,
      "outputs": [
        {
          "output_type": "stream",
          "text": [
            "Train on 60000 samples, validate on 10000 samples\n",
            "Epoch 1/20\n",
            "\n",
            "Epoch 00001: LearningRateScheduler setting learning rate to 0.003.\n",
            "60000/60000 [==============================] - 9s 152us/step - loss: 0.2634 - acc: 0.9175 - val_loss: 0.0587 - val_acc: 0.9804\n",
            "Epoch 2/20\n",
            "\n",
            "Epoch 00002: LearningRateScheduler setting learning rate to 0.0022744503.\n",
            "60000/60000 [==============================] - 6s 103us/step - loss: 0.0845 - acc: 0.9736 - val_loss: 0.0442 - val_acc: 0.9855\n",
            "Epoch 3/20\n",
            "\n",
            "Epoch 00003: LearningRateScheduler setting learning rate to 0.0018315018.\n",
            "60000/60000 [==============================] - 6s 102us/step - loss: 0.0671 - acc: 0.9790 - val_loss: 0.0382 - val_acc: 0.9875\n",
            "Epoch 4/20\n",
            "\n",
            "Epoch 00004: LearningRateScheduler setting learning rate to 0.0015329586.\n",
            "60000/60000 [==============================] - 6s 103us/step - loss: 0.0577 - acc: 0.9823 - val_loss: 0.0371 - val_acc: 0.9877\n",
            "Epoch 5/20\n",
            "\n",
            "Epoch 00005: LearningRateScheduler setting learning rate to 0.0013181019.\n",
            "60000/60000 [==============================] - 6s 106us/step - loss: 0.0508 - acc: 0.9836 - val_loss: 0.0348 - val_acc: 0.9880\n",
            "Epoch 6/20\n",
            "\n",
            "Epoch 00006: LearningRateScheduler setting learning rate to 0.0011560694.\n",
            "60000/60000 [==============================] - 6s 107us/step - loss: 0.0475 - acc: 0.9844 - val_loss: 0.0287 - val_acc: 0.9905\n",
            "Epoch 7/20\n",
            "\n",
            "Epoch 00007: LearningRateScheduler setting learning rate to 0.0010295127.\n",
            "60000/60000 [==============================] - 6s 105us/step - loss: 0.0434 - acc: 0.9862 - val_loss: 0.0328 - val_acc: 0.9884\n",
            "Epoch 8/20\n",
            "\n",
            "Epoch 00008: LearningRateScheduler setting learning rate to 0.0009279307.\n",
            "60000/60000 [==============================] - 6s 102us/step - loss: 0.0399 - acc: 0.9873 - val_loss: 0.0242 - val_acc: 0.9924\n",
            "Epoch 9/20\n",
            "\n",
            "Epoch 00009: LearningRateScheduler setting learning rate to 0.0008445946.\n",
            "60000/60000 [==============================] - 6s 102us/step - loss: 0.0374 - acc: 0.9882 - val_loss: 0.0263 - val_acc: 0.9913\n",
            "Epoch 10/20\n",
            "\n",
            "Epoch 00010: LearningRateScheduler setting learning rate to 0.0007749935.\n",
            "60000/60000 [==============================] - 6s 102us/step - loss: 0.0359 - acc: 0.9889 - val_loss: 0.0251 - val_acc: 0.9911\n",
            "Epoch 11/20\n",
            "\n",
            "Epoch 00011: LearningRateScheduler setting learning rate to 0.0007159905.\n",
            "60000/60000 [==============================] - 6s 102us/step - loss: 0.0343 - acc: 0.9889 - val_loss: 0.0250 - val_acc: 0.9911\n",
            "Epoch 12/20\n",
            "\n",
            "Epoch 00012: LearningRateScheduler setting learning rate to 0.000665336.\n",
            "60000/60000 [==============================] - 6s 102us/step - loss: 0.0331 - acc: 0.9892 - val_loss: 0.0216 - val_acc: 0.9922\n",
            "Epoch 13/20\n",
            "\n",
            "Epoch 00013: LearningRateScheduler setting learning rate to 0.0006213753.\n",
            "60000/60000 [==============================] - 6s 102us/step - loss: 0.0338 - acc: 0.9892 - val_loss: 0.0235 - val_acc: 0.9919\n",
            "Epoch 14/20\n",
            "\n",
            "Epoch 00014: LearningRateScheduler setting learning rate to 0.0005828638.\n",
            "60000/60000 [==============================] - 6s 102us/step - loss: 0.0305 - acc: 0.9904 - val_loss: 0.0224 - val_acc: 0.9921\n",
            "Epoch 15/20\n",
            "\n",
            "Epoch 00015: LearningRateScheduler setting learning rate to 0.0005488474.\n",
            "60000/60000 [==============================] - 6s 103us/step - loss: 0.0310 - acc: 0.9895 - val_loss: 0.0230 - val_acc: 0.9928\n",
            "Epoch 16/20\n",
            "\n",
            "Epoch 00016: LearningRateScheduler setting learning rate to 0.0005185825.\n",
            "60000/60000 [==============================] - 6s 107us/step - loss: 0.0282 - acc: 0.9907 - val_loss: 0.0217 - val_acc: 0.9930\n",
            "Epoch 17/20\n",
            "\n",
            "Epoch 00017: LearningRateScheduler setting learning rate to 0.000491481.\n",
            "60000/60000 [==============================] - 6s 105us/step - loss: 0.0291 - acc: 0.9909 - val_loss: 0.0211 - val_acc: 0.9930\n",
            "Epoch 18/20\n",
            "\n",
            "Epoch 00018: LearningRateScheduler setting learning rate to 0.0004670715.\n",
            "60000/60000 [==============================] - 6s 103us/step - loss: 0.0280 - acc: 0.9905 - val_loss: 0.0205 - val_acc: 0.9928\n",
            "Epoch 19/20\n",
            "\n",
            "Epoch 00019: LearningRateScheduler setting learning rate to 0.0004449718.\n",
            "60000/60000 [==============================] - 6s 102us/step - loss: 0.0273 - acc: 0.9911 - val_loss: 0.0201 - val_acc: 0.9936\n",
            "Epoch 20/20\n",
            "\n",
            "Epoch 00020: LearningRateScheduler setting learning rate to 0.000424869.\n",
            "60000/60000 [==============================] - 6s 102us/step - loss: 0.0277 - acc: 0.9910 - val_loss: 0.0244 - val_acc: 0.9923\n"
          ],
          "name": "stdout"
        },
        {
          "output_type": "execute_result",
          "data": {
            "text/plain": [
              "<keras.callbacks.History at 0x7fe9918fb0b8>"
            ]
          },
          "metadata": {
            "tags": []
          },
          "execution_count": 53
        }
      ]
    },
    {
      "cell_type": "markdown",
      "metadata": {
        "id": "SiSvbnPbjZbJ",
        "colab_type": "text"
      },
      "source": [
        "# Observations\n",
        "\n",
        "The number of parameters to 11k, the addition of scheduler which changed the learning rate at every iteration, help reach 99.36% Vacc at 19th epoch which took the previous (3rd) 25 epochs to reach 99.21% Vacc. "
      ]
    },
    {
      "cell_type": "code",
      "metadata": {
        "id": "CT--y98_dr2T",
        "colab_type": "code",
        "colab": {}
      },
      "source": [
        "layer_dict = dict([(layer.name, layer) for layer in model.layers])"
      ],
      "execution_count": 0,
      "outputs": []
    },
    {
      "cell_type": "code",
      "metadata": {
        "id": "2GY4Upv4dsUR",
        "colab_type": "code",
        "outputId": "26b5b9a7-0f1e-4789-e855-f3acd0c30500",
        "colab": {
          "base_uri": "https://localhost:8080/",
          "height": 316
        }
      },
      "source": [
        "import numpy as np\n",
        "from matplotlib import pyplot as plt\n",
        "from keras import backend as K\n",
        "%matplotlib inline\n",
        "# util function to convert a tensor into a valid image\n",
        "def deprocess_image(x):\n",
        "    # normalize tensor: center on 0., ensure std is 0.1\n",
        "    x -= x.mean()\n",
        "    x /= (x.std() + 1e-5)\n",
        "    x *= 0.1\n",
        "\n",
        "    # clip to [0, 1]\n",
        "    x += 0.5\n",
        "    x = np.clip(x, 0, 1)\n",
        "\n",
        "    # convert to RGB array\n",
        "    x *= 255\n",
        "    #x = x.transpose((1, 2, 0))\n",
        "    x = np.clip(x, 0, 255).astype('uint8')\n",
        "    return x\n",
        "\n",
        "def vis_img_in_filter(img = np.array(X_train[2]).reshape((1, 28, 28, 1)).astype(np.float64), \n",
        "                      layer_name = 'conv2d_14'):\n",
        "    layer_output = layer_dict[layer_name].output\n",
        "    img_ascs = list()\n",
        "    for filter_index in range(layer_output.shape[3]):\n",
        "        # build a loss function that maximizes the activation\n",
        "        # of the nth filter of the layer considered\n",
        "        loss = K.mean(layer_output[:, :, :, filter_index])\n",
        "\n",
        "        # compute the gradient of the input picture wrt this loss\n",
        "        grads = K.gradients(loss, model.input)[0]\n",
        "\n",
        "        # normalization trick: we normalize the gradient\n",
        "        grads /= (K.sqrt(K.mean(K.square(grads))) + 1e-5)\n",
        "\n",
        "        # this function returns the loss and grads given the input picture\n",
        "        iterate = K.function([model.input], [loss, grads])\n",
        "\n",
        "        # step size for gradient ascent\n",
        "        step = 5.\n",
        "\n",
        "        img_asc = np.array(img)\n",
        "        # run gradient ascent for 20 steps\n",
        "        for i in range(20):\n",
        "            loss_value, grads_value = iterate([img_asc])\n",
        "            img_asc += grads_value * step\n",
        "\n",
        "        img_asc = img_asc[0]\n",
        "        img_ascs.append(deprocess_image(img_asc).reshape((28, 28)))\n",
        "        \n",
        "    if layer_output.shape[3] >= 35:\n",
        "        plot_x, plot_y = 6, 6\n",
        "    elif layer_output.shape[3] >= 23:\n",
        "        plot_x, plot_y = 4, 6\n",
        "    elif layer_output.shape[3] >= 11:\n",
        "        plot_x, plot_y = 2, 6\n",
        "    else:\n",
        "        plot_x, plot_y = 1, 2\n",
        "    fig, ax = plt.subplots(plot_x, plot_y, figsize = (12, 12))\n",
        "    ax[0, 0].imshow(img.reshape((28, 28)), cmap = 'gray')\n",
        "    ax[0, 0].set_title('Input image')\n",
        "    fig.suptitle('Input image and %s filters' % (layer_name,))\n",
        "    fig.tight_layout(pad = 0.3, rect = [0, 0, 0.9, 0.9])\n",
        "    for (x, y) in [(i, j) for i in range(plot_x) for j in range(plot_y)]:\n",
        "        if x == 0 and y == 0:\n",
        "            continue\n",
        "        ax[x, y].imshow(img_ascs[x * plot_y + y - 1], cmap = 'gray')\n",
        "        ax[x, y].set_title('filter %d' % (x * plot_y + y - 1))\n",
        "\n",
        "vis_img_in_filter()"
      ],
      "execution_count": 25,
      "outputs": [
        {
          "output_type": "error",
          "ename": "KeyError",
          "evalue": "ignored",
          "traceback": [
            "\u001b[0;31m---------------------------------------------------------------------------\u001b[0m",
            "\u001b[0;31mKeyError\u001b[0m                                  Traceback (most recent call last)",
            "\u001b[0;32m<ipython-input-25-19229f66b51a>\u001b[0m in \u001b[0;36m<module>\u001b[0;34m()\u001b[0m\n\u001b[1;32m     69\u001b[0m         \u001b[0max\u001b[0m\u001b[0;34m[\u001b[0m\u001b[0mx\u001b[0m\u001b[0;34m,\u001b[0m \u001b[0my\u001b[0m\u001b[0;34m]\u001b[0m\u001b[0;34m.\u001b[0m\u001b[0mset_title\u001b[0m\u001b[0;34m(\u001b[0m\u001b[0;34m'filter %d'\u001b[0m \u001b[0;34m%\u001b[0m \u001b[0;34m(\u001b[0m\u001b[0mx\u001b[0m \u001b[0;34m*\u001b[0m \u001b[0mplot_y\u001b[0m \u001b[0;34m+\u001b[0m \u001b[0my\u001b[0m \u001b[0;34m-\u001b[0m \u001b[0;36m1\u001b[0m\u001b[0;34m)\u001b[0m\u001b[0;34m)\u001b[0m\u001b[0;34m\u001b[0m\u001b[0;34m\u001b[0m\u001b[0m\n\u001b[1;32m     70\u001b[0m \u001b[0;34m\u001b[0m\u001b[0m\n\u001b[0;32m---> 71\u001b[0;31m \u001b[0mvis_img_in_filter\u001b[0m\u001b[0;34m(\u001b[0m\u001b[0;34m)\u001b[0m\u001b[0;34m\u001b[0m\u001b[0;34m\u001b[0m\u001b[0m\n\u001b[0m",
            "\u001b[0;32m<ipython-input-25-19229f66b51a>\u001b[0m in \u001b[0;36mvis_img_in_filter\u001b[0;34m(img, layer_name)\u001b[0m\n\u001b[1;32m     22\u001b[0m def vis_img_in_filter(img = np.array(X_train[2]).reshape((1, 28, 28, 1)).astype(np.float64), \n\u001b[1;32m     23\u001b[0m                       layer_name = 'conv2d_14'):\n\u001b[0;32m---> 24\u001b[0;31m     \u001b[0mlayer_output\u001b[0m \u001b[0;34m=\u001b[0m \u001b[0mlayer_dict\u001b[0m\u001b[0;34m[\u001b[0m\u001b[0mlayer_name\u001b[0m\u001b[0;34m]\u001b[0m\u001b[0;34m.\u001b[0m\u001b[0moutput\u001b[0m\u001b[0;34m\u001b[0m\u001b[0;34m\u001b[0m\u001b[0m\n\u001b[0m\u001b[1;32m     25\u001b[0m     \u001b[0mimg_ascs\u001b[0m \u001b[0;34m=\u001b[0m \u001b[0mlist\u001b[0m\u001b[0;34m(\u001b[0m\u001b[0;34m)\u001b[0m\u001b[0;34m\u001b[0m\u001b[0;34m\u001b[0m\u001b[0m\n\u001b[1;32m     26\u001b[0m     \u001b[0;32mfor\u001b[0m \u001b[0mfilter_index\u001b[0m \u001b[0;32min\u001b[0m \u001b[0mrange\u001b[0m\u001b[0;34m(\u001b[0m\u001b[0mlayer_output\u001b[0m\u001b[0;34m.\u001b[0m\u001b[0mshape\u001b[0m\u001b[0;34m[\u001b[0m\u001b[0;36m3\u001b[0m\u001b[0;34m]\u001b[0m\u001b[0;34m)\u001b[0m\u001b[0;34m:\u001b[0m\u001b[0;34m\u001b[0m\u001b[0;34m\u001b[0m\u001b[0m\n",
            "\u001b[0;31mKeyError\u001b[0m: 'conv2d_14'"
          ]
        }
      ]
    },
    {
      "cell_type": "code",
      "metadata": {
        "id": "9tvptcn8dxvp",
        "colab_type": "code",
        "colab": {}
      },
      "source": [
        ""
      ],
      "execution_count": 0,
      "outputs": []
    }
  ]
}