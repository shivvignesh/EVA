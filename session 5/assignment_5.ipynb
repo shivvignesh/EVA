{
  "nbformat": 4,
  "nbformat_minor": 0,
  "metadata": {
    "colab": {
      "name": "assignment 5.ipynb",
      "version": "0.3.2",
      "provenance": [],
      "collapsed_sections": []
    },
    "kernelspec": {
      "name": "python3",
      "display_name": "Python 3"
    },
    "accelerator": "GPU"
  },
  "cells": [
    {
      "cell_type": "code",
      "metadata": {
        "id": "0SJyVpgSxHt4",
        "colab_type": "code",
        "outputId": "b12d0f6d-bd38-4bae-e15b-f120b9612e8f",
        "colab": {
          "base_uri": "https://localhost:8080/",
          "height": 34
        }
      },
      "source": [
        "import numpy as np\n",
        "from matplotlib import pyplot as plt\n",
        "\n",
        "from keras.models import Sequential\n",
        "from keras.layers import Dense, Dropout, Activation, Flatten, Add, BatchNormalization, Conv2D, MaxPooling2D, Convolution2D\n",
        "from keras.utils import np_utils\n",
        "from keras.optimizers import Adam\n",
        "from keras.callbacks import LearningRateScheduler, ModelCheckpoint\n",
        "from keras.preprocessing.image import ImageDataGenerator\n",
        "from keras.regularizers import l2\n",
        "\n",
        "from keras.datasets import mnist\n",
        "\n",
        "%matplotlib inline"
      ],
      "execution_count": 1,
      "outputs": [
        {
          "output_type": "stream",
          "text": [
            "Using TensorFlow backend.\n"
          ],
          "name": "stderr"
        }
      ]
    },
    {
      "cell_type": "code",
      "metadata": {
        "id": "YlEUplvoxKAT",
        "colab_type": "code",
        "outputId": "8b420643-5af9-4e7a-d436-2223a2ec79ed",
        "colab": {
          "base_uri": "https://localhost:8080/",
          "height": 51
        }
      },
      "source": [
        "(X_train, y_train), (X_test, y_test) = mnist.load_data()\n"
      ],
      "execution_count": 2,
      "outputs": [
        {
          "output_type": "stream",
          "text": [
            "Downloading data from https://s3.amazonaws.com/img-datasets/mnist.npz\n",
            "11493376/11490434 [==============================] - 1s 0us/step\n"
          ],
          "name": "stdout"
        }
      ]
    },
    {
      "cell_type": "code",
      "metadata": {
        "id": "I6Y9Va-xxMXG",
        "colab_type": "code",
        "outputId": "0a241f04-66bd-47d1-d167-8888cc419ee6",
        "colab": {
          "base_uri": "https://localhost:8080/",
          "height": 303
        }
      },
      "source": [
        "print (X_train.shape)\n",
        "from matplotlib import pyplot as plt\n",
        "%matplotlib inline\n",
        "plt.imshow(X_train[1])"
      ],
      "execution_count": 3,
      "outputs": [
        {
          "output_type": "stream",
          "text": [
            "(60000, 28, 28)\n"
          ],
          "name": "stdout"
        },
        {
          "output_type": "execute_result",
          "data": {
            "text/plain": [
              "<matplotlib.image.AxesImage at 0x7fe822519f60>"
            ]
          },
          "metadata": {
            "tags": []
          },
          "execution_count": 3
        },
        {
          "output_type": "display_data",
          "data": {
            "image/png": "[encoded data removed]",
            "text/plain": [
              "<Figure size 432x288 with 1 Axes>"
            ]
          },
          "metadata": {
            "tags": []
          }
        }
      ]
    },
    {
      "cell_type": "code",
      "metadata": {
        "id": "lxDZxPhhxOgO",
        "colab_type": "code",
        "colab": {}
      },
      "source": [
        "X_train = X_train.reshape(X_train.shape[0], 28, 28,1)\n",
        "X_test = X_test.reshape(X_test.shape[0], 28, 28,1)"
      ],
      "execution_count": 0,
      "outputs": []
    },
    {
      "cell_type": "code",
      "metadata": {
        "id": "3HzMqbTnxQQW",
        "colab_type": "code",
        "colab": {}
      },
      "source": [
        "X_train = X_train.astype('float32')\n",
        "X_test = X_test.astype('float32')\n",
        "X_train /= 255\n",
        "X_test /= 255"
      ],
      "execution_count": 0,
      "outputs": []
    },
    {
      "cell_type": "code",
      "metadata": {
        "id": "7LdYiW6ixR9e",
        "colab_type": "code",
        "colab": {}
      },
      "source": [
        "y_train[:10]\n",
        "Y_train = np_utils.to_categorical(y_train, 10)\n",
        "Y_test = np_utils.to_categorical(y_test, 10)"
      ],
      "execution_count": 0,
      "outputs": []
    },
    {
      "cell_type": "code",
      "metadata": {
        "id": "rFR0F9j0xVp2",
        "colab_type": "code",
        "outputId": "f10e7aa7-2b6d-4083-bb30-3a9ef95cddc8",
        "colab": {
          "base_uri": "https://localhost:8080/",
          "height": 187
        }
      },
      "source": [
        "Y_train[:10]"
      ],
      "execution_count": 7,
      "outputs": [
        {
          "output_type": "execute_result",
          "data": {
            "text/plain": [
              "array([[0., 0., 0., 0., 0., 1., 0., 0., 0., 0.],\n",
              "       [1., 0., 0., 0., 0., 0., 0., 0., 0., 0.],\n",
              "       [0., 0., 0., 0., 1., 0., 0., 0., 0., 0.],\n",
              "       [0., 1., 0., 0., 0., 0., 0., 0., 0., 0.],\n",
              "       [0., 0., 0., 0., 0., 0., 0., 0., 0., 1.],\n",
              "       [0., 0., 1., 0., 0., 0., 0., 0., 0., 0.],\n",
              "       [0., 1., 0., 0., 0., 0., 0., 0., 0., 0.],\n",
              "       [0., 0., 0., 1., 0., 0., 0., 0., 0., 0.],\n",
              "       [0., 1., 0., 0., 0., 0., 0., 0., 0., 0.],\n",
              "       [0., 0., 0., 0., 1., 0., 0., 0., 0., 0.]], dtype=float32)"
            ]
          },
          "metadata": {
            "tags": []
          },
          "execution_count": 7
        }
      ]
    },
    {
      "cell_type": "code",
      "metadata": {
        "id": "mDpXf4YQxXRm",
        "colab_type": "code",
        "outputId": "59878e58-0e42-4f29-b778-68937e4714a0",
        "colab": {
          "base_uri": "https://localhost:8080/",
          "height": 445
        }
      },
      "source": [
        "from keras.layers import Activation\n",
        "# model = Sequential()\n",
        " \n",
        "# model.add(Convolution2D(16, 3, 3, activation='relu', input_shape=(28,28,1))) #26\n",
        "# model.add(BatchNormalization())\n",
        "# model.add(Dropout(0.1))\n",
        "\n",
        "# model.add(Convolution2D(32, 3, 3, activation='relu')) #24\n",
        "# model.add(BatchNormalization())\n",
        "# model.add(Dropout(0.1))\n",
        "\n",
        "# model.add(Convolution2D(10, 1, 1, activation='relu')) #22\n",
        "\n",
        "# model.add(MaxPooling2D(pool_size=(2, 2)))#11\n",
        "\n",
        "# model.add(Convolution2D(16, 3, 3, activation='relu'))#9\n",
        "# model.add(BatchNormalization())\n",
        "# model.add(Dropout(0.1))\n",
        "\n",
        "\n",
        "# model.add(Convolution2D(16, 3, 3, activation='relu'))#7\n",
        "# model.add(BatchNormalization())\n",
        "# model.add(Dropout(0.1))\n",
        "\n",
        "\n",
        "# model.add(Convolution2D(16, 3, 3, activation='relu'))#5\n",
        "# model.add(BatchNormalization())\n",
        "# model.add(Dropout(0.1))\n",
        "\n",
        "\n",
        "# model.add(Convolution2D(16, 3, 3, activation='relu'))#3\n",
        "# model.add(BatchNormalization())\n",
        "# model.add(Dropout(0.1))\n",
        "\n",
        "\n",
        "# model.add(Convolution2D(10, 4, 4))\n",
        "# model.add(BatchNormalization())\n",
        "# model.add(Dropout(0.1))\n",
        "\n",
        "\n",
        "# model.add(Flatten())\n",
        "# model.add(Activation('softmax'))\n",
        "\n",
        "\n",
        "# model.summary()\n",
        "\n",
        "\n",
        "model = Sequential()\n",
        "\n",
        "model.add(Convolution2D(8, 3, 3, input_shape=(28,28,1), kernel_regularizer=l2(0.01)))\n",
        "model.add(BatchNormalization())\n",
        "model.add(Activation('relu'))\n",
        "\n",
        "model.add(Convolution2D(16, 3, 3,kernel_regularizer=l2(0.01)))\n",
        "model.add(BatchNormalization())\n",
        "model.add(Activation('relu'))\n",
        "\n",
        "model.add(Convolution2D(32,3,3, kernel_regularizer=l2(0.01)))\n",
        "model.add(BatchNormalization())\n",
        "model.add(Activation('relu'))\n",
        "\n",
        "model.add(Convolution2D(10,1,1,kernel_regularizer=l2(0.01)))\n",
        "model.add(BatchNormalization())\n",
        "model.add(Activation('relu'))\n",
        "\n",
        "model.add(MaxPooling2D(pool_size=(2, 2)))\n",
        "\n",
        "model.add(Convolution2D(16, 3, 3,kernel_regularizer=l2(0.01)))\n",
        "model.add(BatchNormalization())\n",
        "model.add(Activation('relu'))\n",
        "\n",
        "model.add(Convolution2D(32,3,3, kernel_regularizer=l2(0.01)))\n",
        "model.add(BatchNormalization())\n",
        "model.add(Activation('relu'))\n",
        "\n",
        "model.add(Convolution2D(10,1,1,kernel_regularizer=l2(0.01)))\n",
        "model.add(BatchNormalization())\n",
        "model.add(Activation('relu'))\n",
        "\n",
        "model.add(Convolution2D(16,3,3, kernel_regularizer=l2(0.01)))\n",
        "model.add(BatchNormalization())\n",
        "model.add(Activation('relu'))\n",
        "\n",
        "model.add(Convolution2D(16,3,3,kernel_regularizer=l2(0.01)))\n",
        "model.add(BatchNormalization())\n",
        "model.add(Activation('relu'))\n",
        "\n",
        "model.add(Conv2D(10, (3, 3), kernel_regularizer=l2(0.01))) #4\n",
        "model.add(BatchNormalization())\n",
        "\n",
        "model.add(Flatten())\n",
        "model.add(Activation('softmax'))\n"
      ],
      "execution_count": 9,
      "outputs": [
        {
          "output_type": "stream",
          "text": [
            "WARNING: Logging before flag parsing goes to stderr.\n",
            "W0829 11:35:14.307079 140636500694912 deprecation_wrapper.py:119] From /usr/local/lib/python3.6/dist-packages/keras/backend/tensorflow_backend.py:74: The name tf.get_default_graph is deprecated. Please use tf.compat.v1.get_default_graph instead.\n",
            "\n",
            "/usr/local/lib/python3.6/dist-packages/ipykernel_launcher.py:50: UserWarning: Update your `Conv2D` call to the Keras 2 API: `Conv2D(8, (3, 3), input_shape=(28, 28, 1..., kernel_regularizer=<keras.reg...)`\n",
            "W0829 11:35:14.354364 140636500694912 deprecation_wrapper.py:119] From /usr/local/lib/python3.6/dist-packages/keras/backend/tensorflow_backend.py:517: The name tf.placeholder is deprecated. Please use tf.compat.v1.placeholder instead.\n",
            "\n",
            "W0829 11:35:14.361691 140636500694912 deprecation_wrapper.py:119] From /usr/local/lib/python3.6/dist-packages/keras/backend/tensorflow_backend.py:4138: The name tf.random_uniform is deprecated. Please use tf.random.uniform instead.\n",
            "\n",
            "W0829 11:35:14.417870 140636500694912 deprecation_wrapper.py:119] From /usr/local/lib/python3.6/dist-packages/keras/backend/tensorflow_backend.py:174: The name tf.get_default_session is deprecated. Please use tf.compat.v1.get_default_session instead.\n",
            "\n",
            "W0829 11:35:14.419034 140636500694912 deprecation_wrapper.py:119] From /usr/local/lib/python3.6/dist-packages/keras/backend/tensorflow_backend.py:181: The name tf.ConfigProto is deprecated. Please use tf.compat.v1.ConfigProto instead.\n",
            "\n",
            "W0829 11:35:17.881231 140636500694912 deprecation_wrapper.py:119] From /usr/local/lib/python3.6/dist-packages/keras/backend/tensorflow_backend.py:1834: The name tf.nn.fused_batch_norm is deprecated. Please use tf.compat.v1.nn.fused_batch_norm instead.\n",
            "\n",
            "/usr/local/lib/python3.6/dist-packages/ipykernel_launcher.py:54: UserWarning: Update your `Conv2D` call to the Keras 2 API: `Conv2D(16, (3, 3), kernel_regularizer=<keras.reg...)`\n",
            "/usr/local/lib/python3.6/dist-packages/ipykernel_launcher.py:58: UserWarning: Update your `Conv2D` call to the Keras 2 API: `Conv2D(32, (3, 3), kernel_regularizer=<keras.reg...)`\n",
            "/usr/local/lib/python3.6/dist-packages/ipykernel_launcher.py:62: UserWarning: Update your `Conv2D` call to the Keras 2 API: `Conv2D(10, (1, 1), kernel_regularizer=<keras.reg...)`\n",
            "W0829 11:35:18.315342 140636500694912 deprecation_wrapper.py:119] From /usr/local/lib/python3.6/dist-packages/keras/backend/tensorflow_backend.py:3976: The name tf.nn.max_pool is deprecated. Please use tf.nn.max_pool2d instead.\n",
            "\n",
            "/usr/local/lib/python3.6/dist-packages/ipykernel_launcher.py:68: UserWarning: Update your `Conv2D` call to the Keras 2 API: `Conv2D(16, (3, 3), kernel_regularizer=<keras.reg...)`\n",
            "/usr/local/lib/python3.6/dist-packages/ipykernel_launcher.py:72: UserWarning: Update your `Conv2D` call to the Keras 2 API: `Conv2D(32, (3, 3), kernel_regularizer=<keras.reg...)`\n",
            "/usr/local/lib/python3.6/dist-packages/ipykernel_launcher.py:76: UserWarning: Update your `Conv2D` call to the Keras 2 API: `Conv2D(10, (1, 1), kernel_regularizer=<keras.reg...)`\n",
            "/usr/local/lib/python3.6/dist-packages/ipykernel_launcher.py:80: UserWarning: Update your `Conv2D` call to the Keras 2 API: `Conv2D(16, (3, 3), kernel_regularizer=<keras.reg...)`\n",
            "/usr/local/lib/python3.6/dist-packages/ipykernel_launcher.py:84: UserWarning: Update your `Conv2D` call to the Keras 2 API: `Conv2D(16, (3, 3), kernel_regularizer=<keras.reg...)`\n"
          ],
          "name": "stderr"
        }
      ]
    },
    {
      "cell_type": "code",
      "metadata": {
        "id": "69081BiEuA-k",
        "colab_type": "code",
        "colab": {
          "base_uri": "https://localhost:8080/",
          "height": 1000
        },
        "outputId": "10b72ea8-ed4b-4468-ecb7-2c5f36df478d"
      },
      "source": [
        "model.summary()"
      ],
      "execution_count": 10,
      "outputs": [
        {
          "output_type": "stream",
          "text": [
            "_________________________________________________________________\n",
            "Layer (type)                 Output Shape              Param #   \n",
            "=================================================================\n",
            "conv2d_1 (Conv2D)            (None, 26, 26, 8)         80        \n",
            "_________________________________________________________________\n",
            "batch_normalization_1 (Batch (None, 26, 26, 8)         32        \n",
            "_________________________________________________________________\n",
            "activation_1 (Activation)    (None, 26, 26, 8)         0         \n",
            "_________________________________________________________________\n",
            "conv2d_2 (Conv2D)            (None, 24, 24, 16)        1168      \n",
            "_________________________________________________________________\n",
            "batch_normalization_2 (Batch (None, 24, 24, 16)        64        \n",
            "_________________________________________________________________\n",
            "activation_2 (Activation)    (None, 24, 24, 16)        0         \n",
            "_________________________________________________________________\n",
            "conv2d_3 (Conv2D)            (None, 22, 22, 32)        4640      \n",
            "_________________________________________________________________\n",
            "batch_normalization_3 (Batch (None, 22, 22, 32)        128       \n",
            "_________________________________________________________________\n",
            "activation_3 (Activation)    (None, 22, 22, 32)        0         \n",
            "_________________________________________________________________\n",
            "conv2d_4 (Conv2D)            (None, 22, 22, 10)        330       \n",
            "_________________________________________________________________\n",
            "batch_normalization_4 (Batch (None, 22, 22, 10)        40        \n",
            "_________________________________________________________________\n",
            "activation_4 (Activation)    (None, 22, 22, 10)        0         \n",
            "_________________________________________________________________\n",
            "max_pooling2d_1 (MaxPooling2 (None, 11, 11, 10)        0         \n",
            "_________________________________________________________________\n",
            "conv2d_5 (Conv2D)            (None, 9, 9, 16)          1456      \n",
            "_________________________________________________________________\n",
            "batch_normalization_5 (Batch (None, 9, 9, 16)          64        \n",
            "_________________________________________________________________\n",
            "activation_5 (Activation)    (None, 9, 9, 16)          0         \n",
            "_________________________________________________________________\n",
            "conv2d_6 (Conv2D)            (None, 7, 7, 32)          4640      \n",
            "_________________________________________________________________\n",
            "batch_normalization_6 (Batch (None, 7, 7, 32)          128       \n",
            "_________________________________________________________________\n",
            "activation_6 (Activation)    (None, 7, 7, 32)          0         \n",
            "_________________________________________________________________\n",
            "conv2d_7 (Conv2D)            (None, 7, 7, 10)          330       \n",
            "_________________________________________________________________\n",
            "batch_normalization_7 (Batch (None, 7, 7, 10)          40        \n",
            "_________________________________________________________________\n",
            "activation_7 (Activation)    (None, 7, 7, 10)          0         \n",
            "_________________________________________________________________\n",
            "conv2d_8 (Conv2D)            (None, 5, 5, 16)          1456      \n",
            "_________________________________________________________________\n",
            "batch_normalization_8 (Batch (None, 5, 5, 16)          64        \n",
            "_________________________________________________________________\n",
            "activation_8 (Activation)    (None, 5, 5, 16)          0         \n",
            "_________________________________________________________________\n",
            "conv2d_9 (Conv2D)            (None, 3, 3, 16)          2320      \n",
            "_________________________________________________________________\n",
            "batch_normalization_9 (Batch (None, 3, 3, 16)          64        \n",
            "_________________________________________________________________\n",
            "activation_9 (Activation)    (None, 3, 3, 16)          0         \n",
            "_________________________________________________________________\n",
            "conv2d_10 (Conv2D)           (None, 1, 1, 10)          1450      \n",
            "_________________________________________________________________\n",
            "batch_normalization_10 (Batc (None, 1, 1, 10)          40        \n",
            "_________________________________________________________________\n",
            "flatten_1 (Flatten)          (None, 10)                0         \n",
            "_________________________________________________________________\n",
            "activation_10 (Activation)   (None, 10)                0         \n",
            "=================================================================\n",
            "Total params: 18,534\n",
            "Trainable params: 18,202\n",
            "Non-trainable params: 332\n",
            "_________________________________________________________________\n"
          ],
          "name": "stdout"
        }
      ]
    },
    {
      "cell_type": "code",
      "metadata": {
        "id": "xj9l_snsuOxw",
        "colab_type": "code",
        "colab": {}
      },
      "source": [
        "datagen = ImageDataGenerator(featurewise_center=True, \n",
        "                             featurewise_std_normalization=True)\n",
        "datagen.fit(X_train)"
      ],
      "execution_count": 0,
      "outputs": []
    },
    {
      "cell_type": "code",
      "metadata": {
        "id": "L2IicGJ4x3Be",
        "colab_type": "code",
        "colab": {}
      },
      "source": [
        "from keras.optimizers import Adam\n",
        "from keras.callbacks import LearningRateScheduler\n",
        "\n",
        "\n",
        "def scheduler(epoch, lr):\n",
        "  return round(0.003 * 1/(1 + 0.319 * epoch), 10)\n"
      ],
      "execution_count": 0,
      "outputs": []
    },
    {
      "cell_type": "code",
      "metadata": {
        "id": "oA4q4MhvuQYC",
        "colab_type": "code",
        "colab": {
          "base_uri": "https://localhost:8080/",
          "height": 71
        },
        "outputId": "cb47a3fb-d2a9-42a6-9617-99a6e9014d6a"
      },
      "source": [
        "model.compile(loss='categorical_crossentropy', optimizer='adam', metrics=['accuracy'])\n",
        "batch_size = 32\n",
        "filepath=\"weights-improvement-{epoch:02d}-{val_acc:.2f}.hdf5\"\n",
        "model_checkpoint = ModelCheckpoint(filepath, monitor='val_acc', verbose=1, save_best_only=True, mode='max')"
      ],
      "execution_count": 13,
      "outputs": [
        {
          "output_type": "stream",
          "text": [
            "W0829 11:35:24.659549 140636500694912 deprecation_wrapper.py:119] From /usr/local/lib/python3.6/dist-packages/keras/optimizers.py:790: The name tf.train.Optimizer is deprecated. Please use tf.compat.v1.train.Optimizer instead.\n",
            "\n"
          ],
          "name": "stderr"
        }
      ]
    },
    {
      "cell_type": "code",
      "metadata": {
        "id": "zE6xupbTuimZ",
        "colab_type": "code",
        "colab": {
          "base_uri": "https://localhost:8080/",
          "height": 1000
        },
        "outputId": "8501261a-7b9b-48d3-bbae-a9802313dd9b"
      },
      "source": [
        "history = model.fit_generator(datagen.flow(X_train, Y_train, batch_size=32),\n",
        "                              steps_per_epoch = X_train.shape[0] // batch_size,\n",
        "                              epochs=40, verbose=1, \n",
        "                              validation_data=(X_test, Y_test),\n",
        "                              callbacks=[LearningRateScheduler(scheduler, verbose=1), model_checkpoint])"
      ],
      "execution_count": 14,
      "outputs": [
        {
          "output_type": "stream",
          "text": [
            "W0829 11:35:27.676234 140636500694912 deprecation.py:323] From /usr/local/lib/python3.6/dist-packages/tensorflow/python/ops/math_grad.py:1250: add_dispatch_support.<locals>.wrapper (from tensorflow.python.ops.array_ops) is deprecated and will be removed in a future version.\n",
            "Instructions for updating:\n",
            "Use tf.where in 2.0, which has the same broadcast rule as np.where\n"
          ],
          "name": "stderr"
        },
        {
          "output_type": "stream",
          "text": [
            "Epoch 1/40\n",
            "\n",
            "Epoch 00001: LearningRateScheduler setting learning rate to 0.003.\n",
            "1875/1875 [==============================] - 51s 27ms/step - loss: 0.6264 - acc: 0.9289 - val_loss: 1.0252 - val_acc: 0.7343\n",
            "\n",
            "Epoch 00001: val_acc improved from -inf to 0.73430, saving model to weights-improvement-01-0.73.hdf5\n",
            "Epoch 2/40\n",
            "\n",
            "Epoch 00002: LearningRateScheduler setting learning rate to 0.0022744503.\n",
            "1875/1875 [==============================] - 46s 25ms/step - loss: 0.3276 - acc: 0.9521 - val_loss: 1.2375 - val_acc: 0.6740\n",
            "\n",
            "Epoch 00002: val_acc did not improve from 0.73430\n",
            "Epoch 3/40\n",
            "\n",
            "Epoch 00003: LearningRateScheduler setting learning rate to 0.0018315018.\n",
            "1875/1875 [==============================] - 46s 25ms/step - loss: 0.2619 - acc: 0.9627 - val_loss: 0.6731 - val_acc: 0.8270\n",
            "\n",
            "Epoch 00003: val_acc improved from 0.73430 to 0.82700, saving model to weights-improvement-03-0.83.hdf5\n",
            "Epoch 4/40\n",
            "\n",
            "Epoch 00004: LearningRateScheduler setting learning rate to 0.0015329586.\n",
            "1875/1875 [==============================] - 46s 25ms/step - loss: 0.2236 - acc: 0.9668 - val_loss: 0.7084 - val_acc: 0.8159\n",
            "\n",
            "Epoch 00004: val_acc did not improve from 0.82700\n",
            "Epoch 5/40\n",
            "\n",
            "Epoch 00005: LearningRateScheduler setting learning rate to 0.0013181019.\n",
            "1875/1875 [==============================] - 46s 25ms/step - loss: 0.1959 - acc: 0.9701 - val_loss: 0.5181 - val_acc: 0.8558\n",
            "\n",
            "Epoch 00005: val_acc improved from 0.82700 to 0.85580, saving model to weights-improvement-05-0.86.hdf5\n",
            "Epoch 6/40\n",
            "\n",
            "Epoch 00006: LearningRateScheduler setting learning rate to 0.0011560694.\n",
            "1875/1875 [==============================] - 47s 25ms/step - loss: 0.1781 - acc: 0.9716 - val_loss: 0.5341 - val_acc: 0.8502\n",
            "\n",
            "Epoch 00006: val_acc did not improve from 0.85580\n",
            "Epoch 7/40\n",
            "\n",
            "Epoch 00007: LearningRateScheduler setting learning rate to 0.0010295127.\n",
            "1875/1875 [==============================] - 46s 25ms/step - loss: 0.1635 - acc: 0.9744 - val_loss: 1.0517 - val_acc: 0.6709\n",
            "\n",
            "Epoch 00007: val_acc did not improve from 0.85580\n",
            "Epoch 8/40\n",
            "\n",
            "Epoch 00008: LearningRateScheduler setting learning rate to 0.0009279307.\n",
            "1875/1875 [==============================] - 46s 25ms/step - loss: 0.1521 - acc: 0.9755 - val_loss: 0.4230 - val_acc: 0.8811\n",
            "\n",
            "Epoch 00008: val_acc improved from 0.85580 to 0.88110, saving model to weights-improvement-08-0.88.hdf5\n",
            "Epoch 9/40\n",
            "\n",
            "Epoch 00009: LearningRateScheduler setting learning rate to 0.0008445946.\n",
            "1875/1875 [==============================] - 46s 25ms/step - loss: 0.1406 - acc: 0.9772 - val_loss: 0.2738 - val_acc: 0.9351\n",
            "\n",
            "Epoch 00009: val_acc improved from 0.88110 to 0.93510, saving model to weights-improvement-09-0.94.hdf5\n",
            "Epoch 10/40\n",
            "\n",
            "Epoch 00010: LearningRateScheduler setting learning rate to 0.0007749935.\n",
            "1875/1875 [==============================] - 47s 25ms/step - loss: 0.1356 - acc: 0.9776 - val_loss: 0.2913 - val_acc: 0.9273\n",
            "\n",
            "Epoch 00010: val_acc did not improve from 0.93510\n",
            "Epoch 11/40\n",
            "\n",
            "Epoch 00011: LearningRateScheduler setting learning rate to 0.0007159905.\n",
            "1875/1875 [==============================] - 47s 25ms/step - loss: 0.1288 - acc: 0.9788 - val_loss: 0.6109 - val_acc: 0.8071\n",
            "\n",
            "Epoch 00011: val_acc did not improve from 0.93510\n",
            "Epoch 12/40\n",
            "\n",
            "Epoch 00012: LearningRateScheduler setting learning rate to 0.000665336.\n",
            "1875/1875 [==============================] - 46s 25ms/step - loss: 0.1210 - acc: 0.9797 - val_loss: 0.8304 - val_acc: 0.7205\n",
            "\n",
            "Epoch 00012: val_acc did not improve from 0.93510\n",
            "Epoch 13/40\n",
            "\n",
            "Epoch 00013: LearningRateScheduler setting learning rate to 0.0006213753.\n",
            "1875/1875 [==============================] - 47s 25ms/step - loss: 0.1159 - acc: 0.9806 - val_loss: 0.4180 - val_acc: 0.8796\n",
            "\n",
            "Epoch 00013: val_acc did not improve from 0.93510\n",
            "Epoch 14/40\n",
            "\n",
            "Epoch 00014: LearningRateScheduler setting learning rate to 0.0005828638.\n",
            "1875/1875 [==============================] - 47s 25ms/step - loss: 0.1132 - acc: 0.9811 - val_loss: 0.3001 - val_acc: 0.9241\n",
            "\n",
            "Epoch 00014: val_acc did not improve from 0.93510\n",
            "Epoch 15/40\n",
            "\n",
            "Epoch 00015: LearningRateScheduler setting learning rate to 0.0005488474.\n",
            "1875/1875 [==============================] - 47s 25ms/step - loss: 0.1062 - acc: 0.9817 - val_loss: 0.4274 - val_acc: 0.8684\n",
            "\n",
            "Epoch 00015: val_acc did not improve from 0.93510\n",
            "Epoch 16/40\n",
            "\n",
            "Epoch 00016: LearningRateScheduler setting learning rate to 0.0005185825.\n",
            "1875/1875 [==============================] - 47s 25ms/step - loss: 0.1029 - acc: 0.9824 - val_loss: 0.6733 - val_acc: 0.7773\n",
            "\n",
            "Epoch 00016: val_acc did not improve from 0.93510\n",
            "Epoch 17/40\n",
            "\n",
            "Epoch 00017: LearningRateScheduler setting learning rate to 0.000491481.\n",
            "1875/1875 [==============================] - 47s 25ms/step - loss: 0.0990 - acc: 0.9830 - val_loss: 1.1962 - val_acc: 0.6315\n",
            "\n",
            "Epoch 00017: val_acc did not improve from 0.93510\n",
            "Epoch 18/40\n",
            "\n",
            "Epoch 00018: LearningRateScheduler setting learning rate to 0.0004670715.\n",
            "1875/1875 [==============================] - 46s 25ms/step - loss: 0.0974 - acc: 0.9826 - val_loss: 0.5547 - val_acc: 0.8274\n",
            "\n",
            "Epoch 00018: val_acc did not improve from 0.93510\n",
            "Epoch 19/40\n",
            "\n",
            "Epoch 00019: LearningRateScheduler setting learning rate to 0.0004449718.\n",
            "1875/1875 [==============================] - 46s 25ms/step - loss: 0.0917 - acc: 0.9840 - val_loss: 0.1730 - val_acc: 0.9585\n",
            "\n",
            "Epoch 00019: val_acc improved from 0.93510 to 0.95850, saving model to weights-improvement-19-0.96.hdf5\n",
            "Epoch 20/40\n",
            "\n",
            "Epoch 00020: LearningRateScheduler setting learning rate to 0.000424869.\n",
            "1875/1875 [==============================] - 47s 25ms/step - loss: 0.0907 - acc: 0.9840 - val_loss: 0.3392 - val_acc: 0.9025\n",
            "\n",
            "Epoch 00020: val_acc did not improve from 0.95850\n",
            "Epoch 21/40\n",
            "\n",
            "Epoch 00021: LearningRateScheduler setting learning rate to 0.0004065041.\n",
            "1875/1875 [==============================] - 47s 25ms/step - loss: 0.0893 - acc: 0.9843 - val_loss: 0.5534 - val_acc: 0.8197\n",
            "\n",
            "Epoch 00021: val_acc did not improve from 0.95850\n",
            "Epoch 22/40\n",
            "\n",
            "Epoch 00022: LearningRateScheduler setting learning rate to 0.000389661.\n",
            "1875/1875 [==============================] - 46s 25ms/step - loss: 0.0849 - acc: 0.9855 - val_loss: 0.3693 - val_acc: 0.8918\n",
            "\n",
            "Epoch 00022: val_acc did not improve from 0.95850\n",
            "Epoch 23/40\n",
            "\n",
            "Epoch 00023: LearningRateScheduler setting learning rate to 0.0003741581.\n",
            "1875/1875 [==============================] - 47s 25ms/step - loss: 0.0848 - acc: 0.9854 - val_loss: 0.4445 - val_acc: 0.8646\n",
            "\n",
            "Epoch 00023: val_acc did not improve from 0.95850\n",
            "Epoch 24/40\n",
            "\n",
            "Epoch 00024: LearningRateScheduler setting learning rate to 0.0003598417.\n",
            "1875/1875 [==============================] - 47s 25ms/step - loss: 0.0835 - acc: 0.9856 - val_loss: 0.3525 - val_acc: 0.8898\n",
            "\n",
            "Epoch 00024: val_acc did not improve from 0.95850\n",
            "Epoch 25/40\n",
            "\n",
            "Epoch 00025: LearningRateScheduler setting learning rate to 0.0003465804.\n",
            "1875/1875 [==============================] - 47s 25ms/step - loss: 0.0812 - acc: 0.9860 - val_loss: 0.5577 - val_acc: 0.8080\n",
            "\n",
            "Epoch 00025: val_acc did not improve from 0.95850\n",
            "Epoch 26/40\n",
            "\n",
            "Epoch 00026: LearningRateScheduler setting learning rate to 0.0003342618.\n",
            "1875/1875 [==============================] - 47s 25ms/step - loss: 0.0792 - acc: 0.9859 - val_loss: 0.3484 - val_acc: 0.8930\n",
            "\n",
            "Epoch 00026: val_acc did not improve from 0.95850\n",
            "Epoch 27/40\n",
            "\n",
            "Epoch 00027: LearningRateScheduler setting learning rate to 0.0003227889.\n",
            "1875/1875 [==============================] - 47s 25ms/step - loss: 0.0779 - acc: 0.9862 - val_loss: 0.6468 - val_acc: 0.7825\n",
            "\n",
            "Epoch 00027: val_acc did not improve from 0.95850\n",
            "Epoch 28/40\n",
            "\n",
            "Epoch 00028: LearningRateScheduler setting learning rate to 0.0003120774.\n",
            "1875/1875 [==============================] - 47s 25ms/step - loss: 0.0757 - acc: 0.9867 - val_loss: 0.4165 - val_acc: 0.8708\n",
            "\n",
            "Epoch 00028: val_acc did not improve from 0.95850\n",
            "Epoch 29/40\n",
            "\n",
            "Epoch 00029: LearningRateScheduler setting learning rate to 0.000302054.\n",
            "1875/1875 [==============================] - 47s 25ms/step - loss: 0.0736 - acc: 0.9871 - val_loss: 0.2609 - val_acc: 0.9232\n",
            "\n",
            "Epoch 00029: val_acc did not improve from 0.95850\n",
            "Epoch 30/40\n",
            "\n",
            "Epoch 00030: LearningRateScheduler setting learning rate to 0.0002926544.\n",
            "1875/1875 [==============================] - 47s 25ms/step - loss: 0.0714 - acc: 0.9876 - val_loss: 0.2052 - val_acc: 0.9462\n",
            "\n",
            "Epoch 00030: val_acc did not improve from 0.95850\n",
            "Epoch 31/40\n",
            "\n",
            "Epoch 00031: LearningRateScheduler setting learning rate to 0.0002838221.\n",
            "1875/1875 [==============================] - 48s 25ms/step - loss: 0.0703 - acc: 0.9875 - val_loss: 0.5312 - val_acc: 0.8275\n",
            "\n",
            "Epoch 00031: val_acc did not improve from 0.95850\n",
            "Epoch 32/40\n",
            "\n",
            "Epoch 00032: LearningRateScheduler setting learning rate to 0.0002755074.\n",
            "1875/1875 [==============================] - 47s 25ms/step - loss: 0.0705 - acc: 0.9878 - val_loss: 0.2895 - val_acc: 0.9168\n",
            "\n",
            "Epoch 00032: val_acc did not improve from 0.95850\n",
            "Epoch 33/40\n",
            "\n",
            "Epoch 00033: LearningRateScheduler setting learning rate to 0.000267666.\n",
            "1875/1875 [==============================] - 46s 25ms/step - loss: 0.0706 - acc: 0.9868 - val_loss: 0.2434 - val_acc: 0.9320\n",
            "\n",
            "Epoch 00033: val_acc did not improve from 0.95850\n",
            "Epoch 34/40\n",
            "\n",
            "Epoch 00034: LearningRateScheduler setting learning rate to 0.0002602585.\n",
            "1875/1875 [==============================] - 47s 25ms/step - loss: 0.0679 - acc: 0.9884 - val_loss: 0.6037 - val_acc: 0.7946\n",
            "\n",
            "Epoch 00034: val_acc did not improve from 0.95850\n",
            "Epoch 35/40\n",
            "\n",
            "Epoch 00035: LearningRateScheduler setting learning rate to 0.00025325.\n",
            "1875/1875 [==============================] - 47s 25ms/step - loss: 0.0677 - acc: 0.9879 - val_loss: 0.2053 - val_acc: 0.9434\n",
            "\n",
            "Epoch 00035: val_acc did not improve from 0.95850\n",
            "Epoch 36/40\n",
            "\n",
            "Epoch 00036: LearningRateScheduler setting learning rate to 0.0002466091.\n",
            "1875/1875 [==============================] - 47s 25ms/step - loss: 0.0653 - acc: 0.9883 - val_loss: 0.2673 - val_acc: 0.9258\n",
            "\n",
            "Epoch 00036: val_acc did not improve from 0.95850\n",
            "Epoch 37/40\n",
            "\n",
            "Epoch 00037: LearningRateScheduler setting learning rate to 0.0002403076.\n",
            "1875/1875 [==============================] - 47s 25ms/step - loss: 0.0643 - acc: 0.9889 - val_loss: 0.3355 - val_acc: 0.9042\n",
            "\n",
            "Epoch 00037: val_acc did not improve from 0.95850\n",
            "Epoch 38/40\n",
            "\n",
            "Epoch 00038: LearningRateScheduler setting learning rate to 0.0002343201.\n",
            "1875/1875 [==============================] - 47s 25ms/step - loss: 0.0634 - acc: 0.9888 - val_loss: 0.3277 - val_acc: 0.8971\n",
            "\n",
            "Epoch 00038: val_acc did not improve from 0.95850\n",
            "Epoch 39/40\n",
            "\n",
            "Epoch 00039: LearningRateScheduler setting learning rate to 0.0002286237.\n",
            "1875/1875 [==============================] - 47s 25ms/step - loss: 0.0627 - acc: 0.9890 - val_loss: 0.4073 - val_acc: 0.8782\n",
            "\n",
            "Epoch 00039: val_acc did not improve from 0.95850\n",
            "Epoch 40/40\n",
            "\n",
            "Epoch 00040: LearningRateScheduler setting learning rate to 0.0002231977.\n",
            "1875/1875 [==============================] - 47s 25ms/step - loss: 0.0613 - acc: 0.9896 - val_loss: 0.3954 - val_acc: 0.8804\n",
            "\n",
            "Epoch 00040: val_acc did not improve from 0.95850\n"
          ],
          "name": "stdout"
        }
      ]
    },
    {
      "cell_type": "code",
      "metadata": {
        "id": "WLxlW9ufyQiO",
        "colab_type": "code",
        "outputId": "c59e2ea1-03d1-4039-b57b-86f6cedcb5ca",
        "colab": {
          "base_uri": "https://localhost:8080/",
          "height": 34
        }
      },
      "source": [
        "\n",
        "score = model.evaluate(X_test, Y_test, verbose=0)\n",
        "print(score)"
      ],
      "execution_count": 15,
      "outputs": [
        {
          "output_type": "stream",
          "text": [
            "[0.395434615778923, 0.8804]\n"
          ],
          "name": "stdout"
        }
      ]
    },
    {
      "cell_type": "markdown",
      "metadata": {
        "id": "3-y2n_rNd-bE",
        "colab_type": "text"
      },
      "source": [
        "# Loading the weights "
      ]
    },
    {
      "cell_type": "code",
      "metadata": {
        "id": "m2qDl21ozBnW",
        "colab_type": "code",
        "colab": {
          "base_uri": "https://localhost:8080/",
          "height": 85
        },
        "outputId": "684a4e26-39be-4ba3-bb33-fc489658a67d"
      },
      "source": [
        "!ls"
      ],
      "execution_count": 16,
      "outputs": [
        {
          "output_type": "stream",
          "text": [
            "sample_data\t\t\t  weights-improvement-08-0.88.hdf5\n",
            "weights-improvement-01-0.73.hdf5  weights-improvement-09-0.94.hdf5\n",
            "weights-improvement-03-0.83.hdf5  weights-improvement-19-0.96.hdf5\n",
            "weights-improvement-05-0.86.hdf5\n"
          ],
          "name": "stdout"
        }
      ]
    },
    {
      "cell_type": "code",
      "metadata": {
        "id": "bqKvIvsXRurq",
        "colab_type": "code",
        "colab": {}
      },
      "source": [
        "model.load_weights(\"weights-improvement-19-0.96.hdf5\")"
      ],
      "execution_count": 0,
      "outputs": []
    },
    {
      "cell_type": "code",
      "metadata": {
        "id": "ljdtNL28R5-s",
        "colab_type": "code",
        "colab": {
          "base_uri": "https://localhost:8080/",
          "height": 34
        },
        "outputId": "168df20d-9567-4df1-8284-542d2fd7bf68"
      },
      "source": [
        "model.evaluate(X_test, Y_test, verbose=0)"
      ],
      "execution_count": 18,
      "outputs": [
        {
          "output_type": "execute_result",
          "data": {
            "text/plain": [
              "[0.17299524389505386, 0.9585]"
            ]
          },
          "metadata": {
            "tags": []
          },
          "execution_count": 18
        }
      ]
    },
    {
      "cell_type": "code",
      "metadata": {
        "id": "1Y4haFE1R8Bk",
        "colab_type": "code",
        "colab": {}
      },
      "source": [
        "prediction = model.predict_classes(X_test)"
      ],
      "execution_count": 0,
      "outputs": []
    },
    {
      "cell_type": "markdown",
      "metadata": {
        "id": "kCXs0YoceHfY",
        "colab_type": "text"
      },
      "source": [
        "# Finding out the misclassified images. "
      ]
    },
    {
      "cell_type": "code",
      "metadata": {
        "id": "huwvqwbuVxrI",
        "colab_type": "code",
        "colab": {}
      },
      "source": [
        "misclassified = []\n",
        "for i in range(len(Y_test)):\n",
        "    if y_test[i] != prediction[i]:\n",
        "        misclassified.append((y_test[i], prediction[i], i))"
      ],
      "execution_count": 0,
      "outputs": []
    },
    {
      "cell_type": "code",
      "metadata": {
        "id": "BMZW7YXvVsh3",
        "colab_type": "code",
        "colab": {
          "base_uri": "https://localhost:8080/",
          "height": 34
        },
        "outputId": "51d7dde9-32f5-4d5c-e824-e356fdd9f6ae"
      },
      "source": [
        "len(misclassified)"
      ],
      "execution_count": 22,
      "outputs": [
        {
          "output_type": "execute_result",
          "data": {
            "text/plain": [
              "415"
            ]
          },
          "metadata": {
            "tags": []
          },
          "execution_count": 22
        }
      ]
    },
    {
      "cell_type": "code",
      "metadata": {
        "id": "Oz1YfjECVus7",
        "colab_type": "code",
        "colab": {}
      },
      "source": [
        "misclassified_images = []\n",
        "misclassified_classes = []\n",
        "actual_classes = []\n",
        "\n",
        "for actual_val, pred_val, i in misclassified:\n",
        "    misclassified_images.append(X_test[i])\n",
        "    actual_classes.append(actual_val)\n",
        "    misclassified_classes.append(pred_val)"
      ],
      "execution_count": 0,
      "outputs": []
    },
    {
      "cell_type": "code",
      "metadata": {
        "id": "xB8AgYpxV2Es",
        "colab_type": "code",
        "colab": {
          "base_uri": "https://localhost:8080/",
          "height": 34
        },
        "outputId": "f190e363-a284-45b5-98dc-976a99c713e2"
      },
      "source": [
        "test_images = np.array(misclassified_images)[0:25]\n",
        "test_images.shape"
      ],
      "execution_count": 24,
      "outputs": [
        {
          "output_type": "execute_result",
          "data": {
            "text/plain": [
              "(25, 28, 28, 1)"
            ]
          },
          "metadata": {
            "tags": []
          },
          "execution_count": 24
        }
      ]
    },
    {
      "cell_type": "markdown",
      "metadata": {
        "id": "v4MJCXf0eNSQ",
        "colab_type": "text"
      },
      "source": [
        "# Plotting the misclassified images. "
      ]
    },
    {
      "cell_type": "code",
      "metadata": {
        "id": "3A_vM9N5V5Gq",
        "colab_type": "code",
        "colab": {
          "base_uri": "https://localhost:8080/",
          "height": 792
        },
        "outputId": "76f32ce5-84db-4ffa-8a76-9dca1bb4c428"
      },
      "source": [
        "fig, ax = plt.subplots(5, 5, figsize = (12, 12))\n",
        "\n",
        "fig.tight_layout(pad = 0.3, rect = [0, 0, 0.9, 0.9])\n",
        "i = 0\n",
        "\n",
        "for row in ax:\n",
        "\tfor col in row:\n",
        "\t\tif i < 25:\n",
        "\t\t\tcol.imshow(test_images[i].reshape(28,28), cmap='gray')\n",
        "\t\t\ti += 1"
      ],
      "execution_count": 25,
      "outputs": [
        {
          "output_type": "display_data",
          "data": {
            "image/png": "[encoded data removed]",
            "text/plain": [
              "<Figure size 864x864 with 25 Axes>"
            ]
          },
          "metadata": {
            "tags": []
          }
        }
      ]
    },
    {
      "cell_type": "markdown",
      "metadata": {
        "id": "lzqyM5ukeSY2",
        "colab_type": "text"
      },
      "source": [
        "# Actual Classes vs Misclassified. "
      ]
    },
    {
      "cell_type": "code",
      "metadata": {
        "id": "Ptx9qlcDV8Qk",
        "colab_type": "code",
        "colab": {
          "base_uri": "https://localhost:8080/",
          "height": 459
        },
        "outputId": "fd47dbb4-3a08-494c-85ab-ccc361a800d2"
      },
      "source": [
        "print(\"Actual Classes\")\n",
        "for i in range(25):\n",
        "    if i % 5 != 0:\n",
        "        print(actual_classes[i], end=' ')\n",
        "    else:\n",
        "        print('\\n')\n",
        "        print(actual_classes[i], end=' ')\n",
        "        \n",
        "print('\\n\\n')        \n",
        "\n",
        "print(\"Misclassified Classes\")\n",
        "for i in range(25):\n",
        "    if i % 5 != 0:\n",
        "        print(misclassified_classes[i], end=' ')\n",
        "    else:\n",
        "        print('\\n')\n",
        "        print(misclassified_classes[i], end=' ')"
      ],
      "execution_count": 26,
      "outputs": [
        {
          "output_type": "stream",
          "text": [
            "Actual Classes\n",
            "\n",
            "\n",
            "2 9 5 4 2 \n",
            "\n",
            "9 3 3 4 6 \n",
            "\n",
            "2 8 3 2 9 \n",
            "\n",
            "0 2 9 2 2 \n",
            "\n",
            "3 3 6 3 3 \n",
            "\n",
            "\n",
            "Misclassified Classes\n",
            "\n",
            "\n",
            "1 4 6 0 7 \n",
            "\n",
            "4 1 5 2 0 \n",
            "\n",
            "1 6 5 7 4 \n",
            "\n",
            "7 1 4 7 1 \n",
            "\n",
            "7 5 0 5 5 "
          ],
          "name": "stdout"
        }
      ]
    },
    {
      "cell_type": "code",
      "metadata": {
        "id": "ZWNrYRQyWI3R",
        "colab_type": "code",
        "colab": {}
      },
      "source": [
        ""
      ],
      "execution_count": 0,
      "outputs": []
    }
  ]
}